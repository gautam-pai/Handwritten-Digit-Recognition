{
  "nbformat": 4,
  "nbformat_minor": 0,
  "metadata": {
    "colab": {
      "provenance": [],
      "authorship_tag": "ABX9TyNGkvxAVIQWI5JrmzqxTqAM",
      "include_colab_link": true
    },
    "kernelspec": {
      "name": "python3",
      "display_name": "Python 3"
    },
    "language_info": {
      "name": "python"
    }
  },
  "cells": [
    {
      "cell_type": "markdown",
      "metadata": {
        "id": "view-in-github",
        "colab_type": "text"
      },
      "source": [
        "<a href=\"https://colab.research.google.com/github/gautam-pai/Handwritten-Digit-Recognition/blob/main/Hand_Written_Number_Recognition.ipynb\" target=\"_parent\"><img src=\"https://colab.research.google.com/assets/colab-badge.svg\" alt=\"Open In Colab\"/></a>"
      ]
    },
    {
      "cell_type": "code",
      "execution_count": 1,
      "metadata": {
        "id": "SnW_4X8yb6Us"
      },
      "outputs": [],
      "source": [
        "import torch\n",
        "import torch.nn as nn\n",
        "import torch.nn.functional as F\n",
        "from torch.utils.data import DataLoader\n",
        "from torchvision import datasets, transforms\n",
        "\n",
        "\n",
        "\n",
        "import pandas as pd\n",
        "import numpy as np\n",
        "from sklearn.metrics import confusion_matrix\n",
        "import matplotlib.pyplot as plt\n",
        "%matplotlib inline"
      ]
    },
    {
      "cell_type": "code",
      "source": [
        "#import torch\n",
        "#torch.cuda.is_available()"
      ],
      "metadata": {
        "id": "H9J3PfTL31-m"
      },
      "execution_count": 4,
      "outputs": []
    },
    {
      "cell_type": "markdown",
      "source": [
        "## Importing datasets"
      ],
      "metadata": {
        "id": "hjOmyCxqhoa1"
      }
    },
    {
      "cell_type": "code",
      "source": [
        "train_data=datasets.USPS(root='./usps_data_train',train=True,transform=transforms.ToTensor(),download=True)"
      ],
      "metadata": {
        "colab": {
          "base_uri": "https://localhost:8080/"
        },
        "id": "Ycs-B7qYhCYs",
        "outputId": "46e00546-2026-4b97-ab19-23f8973487af"
      },
      "execution_count": 2,
      "outputs": [
        {
          "output_type": "stream",
          "name": "stdout",
          "text": [
            "Downloading https://www.csie.ntu.edu.tw/~cjlin/libsvmtools/datasets/multiclass/usps.bz2 to ./usps_data_train/usps.bz2\n"
          ]
        },
        {
          "output_type": "stream",
          "name": "stderr",
          "text": [
            "100%|██████████| 6.58M/6.58M [00:01<00:00, 4.20MB/s]\n"
          ]
        }
      ]
    },
    {
      "cell_type": "code",
      "source": [
        "test_data=datasets.USPS(root='./usps_data_test',train=False,transform=transforms.ToTensor(),download=True)"
      ],
      "metadata": {
        "colab": {
          "base_uri": "https://localhost:8080/"
        },
        "id": "hmtYT5zgf05s",
        "outputId": "c9557c91-9289-4ce3-932c-ebdcadfee01e"
      },
      "execution_count": 3,
      "outputs": [
        {
          "output_type": "stream",
          "name": "stdout",
          "text": [
            "Downloading https://www.csie.ntu.edu.tw/~cjlin/libsvmtools/datasets/multiclass/usps.t.bz2 to ./usps_data_test/usps.t.bz2\n"
          ]
        },
        {
          "output_type": "stream",
          "name": "stderr",
          "text": [
            "100%|██████████| 1.83M/1.83M [00:01<00:00, 1.68MB/s]\n"
          ]
        }
      ]
    },
    {
      "cell_type": "code",
      "source": [
        "train_data"
      ],
      "metadata": {
        "colab": {
          "base_uri": "https://localhost:8080/"
        },
        "id": "pshAjUwxf2CO",
        "outputId": "743c10e5-1fe9-4f0a-dd28-bd5c39e9ba91"
      },
      "execution_count": 4,
      "outputs": [
        {
          "output_type": "execute_result",
          "data": {
            "text/plain": [
              "Dataset USPS\n",
              "    Number of datapoints: 7291\n",
              "    Root location: ./usps_data_train\n",
              "    StandardTransform\n",
              "Transform: ToTensor()"
            ]
          },
          "metadata": {},
          "execution_count": 4
        }
      ]
    },
    {
      "cell_type": "code",
      "source": [
        "test_data"
      ],
      "metadata": {
        "colab": {
          "base_uri": "https://localhost:8080/"
        },
        "id": "__4_dwLef1_Z",
        "outputId": "786e1470-9a59-4ca8-c523-fddad5e2b974"
      },
      "execution_count": 5,
      "outputs": [
        {
          "output_type": "execute_result",
          "data": {
            "text/plain": [
              "Dataset USPS\n",
              "    Number of datapoints: 2007\n",
              "    Root location: ./usps_data_test\n",
              "    StandardTransform\n",
              "Transform: ToTensor()"
            ]
          },
          "metadata": {},
          "execution_count": 5
        }
      ]
    },
    {
      "cell_type": "code",
      "source": [
        "train_loader=DataLoader(dataset=train_data,batch_size=10,shuffle=True)\n",
        "test_loader=DataLoader(dataset=test_data,batch_size=10,shuffle=False)"
      ],
      "metadata": {
        "id": "O3_BKnuZf18B"
      },
      "execution_count": 30,
      "outputs": []
    },
    {
      "cell_type": "markdown",
      "source": [
        "## Data Exploration"
      ],
      "metadata": {
        "id": "IWKWAClSlxwF"
      }
    },
    {
      "cell_type": "code",
      "source": [
        "sample=train_data[100]\n",
        "sample"
      ],
      "metadata": {
        "colab": {
          "base_uri": "https://localhost:8080/"
        },
        "id": "p6pbKPyOf12x",
        "outputId": "cb76a439-79e2-4b13-8428-f8ac2829dddc"
      },
      "execution_count": 31,
      "outputs": [
        {
          "output_type": "execute_result",
          "data": {
            "text/plain": [
              "(tensor([[[0.0000, 0.0039, 0.0510, 0.2000, 0.4431, 0.6392, 0.6941, 0.6824,\n",
              "           0.6196, 0.5020, 0.3529, 0.1922, 0.0588, 0.0039, 0.0000, 0.0000],\n",
              "          [0.0000, 0.0353, 0.2039, 0.5176, 0.7216, 0.7294, 0.6588, 0.6235,\n",
              "           0.6235, 0.6353, 0.6392, 0.5294, 0.2235, 0.0392, 0.0000, 0.0000],\n",
              "          [0.0039, 0.0941, 0.4039, 0.7020, 0.6118, 0.3569, 0.2157, 0.1843,\n",
              "           0.1961, 0.2588, 0.4588, 0.6431, 0.3765, 0.0824, 0.0039, 0.0000],\n",
              "          [0.0078, 0.1333, 0.5098, 0.6824, 0.3490, 0.0902, 0.0196, 0.0118,\n",
              "           0.0118, 0.0471, 0.2431, 0.4941, 0.3137, 0.0706, 0.0039, 0.0000],\n",
              "          [0.0078, 0.1255, 0.4863, 0.6392, 0.2667, 0.0353, 0.0000, 0.0000,\n",
              "           0.0000, 0.0157, 0.0980, 0.2118, 0.1608, 0.0549, 0.0078, 0.0000],\n",
              "          [0.0039, 0.0863, 0.3882, 0.6431, 0.3765, 0.0863, 0.0078, 0.0039,\n",
              "           0.0314, 0.1098, 0.2118, 0.3020, 0.3176, 0.1882, 0.0471, 0.0000],\n",
              "          [0.0000, 0.0353, 0.2314, 0.5608, 0.5490, 0.2392, 0.0627, 0.0824,\n",
              "           0.2196, 0.4353, 0.6118, 0.6627, 0.5922, 0.3490, 0.0902, 0.0039],\n",
              "          [0.0000, 0.0078, 0.0824, 0.3216, 0.5647, 0.4980, 0.3059, 0.3765,\n",
              "           0.5922, 0.7059, 0.6745, 0.5373, 0.3725, 0.1804, 0.0392, 0.0000],\n",
              "          [0.0000, 0.0000, 0.0157, 0.1137, 0.3843, 0.6549, 0.6980, 0.7412,\n",
              "           0.7020, 0.5216, 0.3098, 0.1647, 0.0824, 0.0314, 0.0039, 0.0000],\n",
              "          [0.0000, 0.0000, 0.0078, 0.0824, 0.3373, 0.6784, 0.8235, 0.7843,\n",
              "           0.4902, 0.2039, 0.0627, 0.0157, 0.0039, 0.0000, 0.0000, 0.0000],\n",
              "          [0.0000, 0.0000, 0.0549, 0.2588, 0.5647, 0.6824, 0.6275, 0.6314,\n",
              "           0.4784, 0.2157, 0.0510, 0.0039, 0.0000, 0.0000, 0.0000, 0.0000],\n",
              "          [0.0000, 0.0118, 0.1569, 0.5216, 0.6745, 0.4549, 0.2510, 0.3373,\n",
              "           0.5373, 0.4784, 0.2078, 0.0392, 0.0000, 0.0000, 0.0000, 0.0000],\n",
              "          [0.0000, 0.0275, 0.2431, 0.6392, 0.5765, 0.2314, 0.0627, 0.1216,\n",
              "           0.3843, 0.6235, 0.4667, 0.1333, 0.0078, 0.0000, 0.0000, 0.0000],\n",
              "          [0.0000, 0.0275, 0.2196, 0.5647, 0.5529, 0.3176, 0.1961, 0.2000,\n",
              "           0.3529, 0.6510, 0.6353, 0.2196, 0.0196, 0.0000, 0.0000, 0.0000],\n",
              "          [0.0000, 0.0078, 0.0902, 0.3059, 0.5137, 0.5765, 0.5686, 0.5922,\n",
              "           0.6627, 0.7647, 0.6392, 0.2196, 0.0235, 0.0000, 0.0000, 0.0000],\n",
              "          [0.0000, 0.0000, 0.0118, 0.0784, 0.2118, 0.3765, 0.5176, 0.6196,\n",
              "           0.6667, 0.6118, 0.3882, 0.1137, 0.0078, 0.0000, 0.0000, 0.0000]]]),\n",
              " 8)"
            ]
          },
          "metadata": {},
          "execution_count": 31
        }
      ]
    },
    {
      "cell_type": "code",
      "source": [
        "sample_image,sample_tag=sample[0],sample[1]"
      ],
      "metadata": {
        "id": "ZLPotPkaf1zy"
      },
      "execution_count": 32,
      "outputs": []
    },
    {
      "cell_type": "code",
      "source": [
        "sample_image.shape"
      ],
      "metadata": {
        "colab": {
          "base_uri": "https://localhost:8080/"
        },
        "id": "XCgCr0FDmDOL",
        "outputId": "5573bda9-e4b7-4c34-9139-bc2ae90e3ee7"
      },
      "execution_count": 33,
      "outputs": [
        {
          "output_type": "execute_result",
          "data": {
            "text/plain": [
              "torch.Size([1, 16, 16])"
            ]
          },
          "metadata": {},
          "execution_count": 33
        }
      ]
    },
    {
      "cell_type": "code",
      "source": [
        "plt.imshow(sample_image.reshape(16,16))\n",
        "plt.title(f'Tag for the image is {sample_tag}')"
      ],
      "metadata": {
        "colab": {
          "base_uri": "https://localhost:8080/",
          "height": 469
        },
        "id": "5oO1D6srmGHT",
        "outputId": "3a1f13bc-a2e3-4c7c-8d94-4cb51fa343fe"
      },
      "execution_count": 34,
      "outputs": [
        {
          "output_type": "execute_result",
          "data": {
            "text/plain": [
              "Text(0.5, 1.0, 'Tag for the image is 8')"
            ]
          },
          "metadata": {},
          "execution_count": 34
        },
        {
          "output_type": "display_data",
          "data": {
            "text/plain": [
              "<Figure size 640x480 with 1 Axes>"
            ],
            "image/png": "[encoded data removed]"
          },
          "metadata": {}
        }
      ]
    },
    {
      "cell_type": "markdown",
      "source": [
        "## Neural Network Model"
      ],
      "metadata": {
        "id": "pomvVYQgmeSI"
      }
    },
    {
      "cell_type": "code",
      "source": [
        "class NumberDetector(nn.Module):\n",
        "  def __init__(self):\n",
        "    super().__init__()\n",
        "    ## Convolutional Layers - The first in_channel is so that 1 image in 1 channel is passed, The remaining 10,20,30 are arbitrarily chosen\n",
        "    self.conv1=nn.Conv2d(in_channels=1,out_channels=10,kernel_size=3,stride=1)\n",
        "    self.conv2=nn.Conv2d(in_channels=10,out_channels=20,kernel_size=3,stride=1)\n",
        "    self.conv3=nn.Conv2d(in_channels=20,out_channels=30,kernel_size=3,stride=1)\n",
        "\n",
        "    ## Fully Connected Layers\n",
        "    self.fc1=nn.Linear(30*10*10,out_features=100) # Since the output of Convolution will be a 10*10 image across 30 channels in-features will be 30*10*10.  The out features is also arbitrarily chosen.\n",
        "    self.fc2=nn.Linear(100,50) # The output of previous linear layer is 100, so input here will be 100. And output we've arbitrarily chosen as 50\n",
        "    self.fc3=nn.Linear(50,10) # we want the final output to be 10, because there are 10 digits possible.\n",
        "\n",
        "  def forward(self,X):\n",
        "    # First convolution and relu activation\n",
        "    X=F.relu(self.conv1(X))\n",
        "    # Second Convolution and relu activation\n",
        "    X=F.relu(self.conv2(X))\n",
        "    # Third Convolution and relu activation\n",
        "    X=F.relu(self.conv3(X))\n",
        "\n",
        "    ## Flattening\n",
        "    X=X.view(-1,30*10*10)\n",
        "\n",
        "    # ANN Layers/ Neural Networks\n",
        "    X=F.relu(self.fc1(X))\n",
        "    X=F.relu(self.fc2(X))\n",
        "    X=self.fc3(X)\n",
        "\n",
        "    return F.log_softmax(X,dim=1)\n",
        "\n"
      ],
      "metadata": {
        "id": "22ezPDS0mM80"
      },
      "execution_count": 35,
      "outputs": []
    },
    {
      "cell_type": "code",
      "source": [
        "Detector=NumberDetector()"
      ],
      "metadata": {
        "id": "g6NGccJaruIZ"
      },
      "execution_count": 36,
      "outputs": []
    },
    {
      "cell_type": "code",
      "source": [
        "Detector"
      ],
      "metadata": {
        "colab": {
          "base_uri": "https://localhost:8080/"
        },
        "id": "BilWfQOJruAO",
        "outputId": "18d90e90-4f09-4a54-8069-b65f2ec5478f"
      },
      "execution_count": 37,
      "outputs": [
        {
          "output_type": "execute_result",
          "data": {
            "text/plain": [
              "NumberDetector(\n",
              "  (conv1): Conv2d(1, 10, kernel_size=(3, 3), stride=(1, 1))\n",
              "  (conv2): Conv2d(10, 20, kernel_size=(3, 3), stride=(1, 1))\n",
              "  (conv3): Conv2d(20, 30, kernel_size=(3, 3), stride=(1, 1))\n",
              "  (fc1): Linear(in_features=3000, out_features=100, bias=True)\n",
              "  (fc2): Linear(in_features=100, out_features=50, bias=True)\n",
              "  (fc3): Linear(in_features=50, out_features=10, bias=True)\n",
              ")"
            ]
          },
          "metadata": {},
          "execution_count": 37
        }
      ]
    },
    {
      "cell_type": "markdown",
      "source": [
        "## Loss Function Optimizer"
      ],
      "metadata": {
        "id": "-HEsnFrMy1qU"
      }
    },
    {
      "cell_type": "code",
      "source": [
        "criterion=nn.CrossEntropyLoss()\n",
        "optimizer=torch.optim.Adam(Detector.parameters(),lr=0.01)"
      ],
      "metadata": {
        "id": "OYQhndmrrt9q"
      },
      "execution_count": 38,
      "outputs": []
    },
    {
      "cell_type": "markdown",
      "source": [
        "## Training the model"
      ],
      "metadata": {
        "id": "4X2uu8yQzd-F"
      }
    },
    {
      "cell_type": "code",
      "source": [
        "import time\n",
        "start_time=time.time()\n",
        "epochs=10\n",
        "train_losses=[]\n",
        "test_losses=[]\n",
        "train_correct=[]\n",
        "test_correct=[]\n",
        "\n",
        "\n",
        "for i in range(epochs):\n",
        "  ## Train Data\n",
        "  for b,(X_Train,y_train) in enumerate(train_loader):\n",
        "    b+=1\n",
        "    y_pred=Detector(X_Train)\n",
        "    loss=criterion(y_pred,y_train)\n",
        "    ## Optimization of weights\n",
        "    optimizer.zero_grad()\n",
        "    loss.backward()\n",
        "    optimizer.step()\n",
        "\n",
        "    # Printing the loss % after certain number of data has been used to train\n",
        "    if b%100==0:\n",
        "      print(f'Epoch: {i}  Batch: {b}  Loss:{loss.item()}')\n",
        "\n",
        "current_time=time.time()\n",
        "print(f'Total time taken to finish the training = {(current_time-start_time)/60 } mins')"
      ],
      "metadata": {
        "colab": {
          "base_uri": "https://localhost:8080/"
        },
        "id": "yo2XxAvUrt6B",
        "outputId": "d8af0a45-1079-4dec-b4aa-b8f74f3aa892"
      },
      "execution_count": 39,
      "outputs": [
        {
          "output_type": "stream",
          "name": "stdout",
          "text": [
            "Epoch: 0  Batch: 100  Loss:0.31751126050949097\n",
            "Epoch: 0  Batch: 200  Loss:0.7165442705154419\n",
            "Epoch: 0  Batch: 300  Loss:0.3295331597328186\n",
            "Epoch: 0  Batch: 400  Loss:0.2976354956626892\n",
            "Epoch: 0  Batch: 500  Loss:0.07802216708660126\n",
            "Epoch: 0  Batch: 600  Loss:0.15225443243980408\n",
            "Epoch: 0  Batch: 700  Loss:0.04373142868280411\n",
            "Epoch: 1  Batch: 100  Loss:0.29639843106269836\n",
            "Epoch: 1  Batch: 200  Loss:1.233806848526001\n",
            "Epoch: 1  Batch: 300  Loss:0.3404892086982727\n",
            "Epoch: 1  Batch: 400  Loss:0.07773560285568237\n",
            "Epoch: 1  Batch: 500  Loss:0.2135198563337326\n",
            "Epoch: 1  Batch: 600  Loss:0.7092330455780029\n",
            "Epoch: 1  Batch: 700  Loss:0.2551713287830353\n",
            "Epoch: 2  Batch: 100  Loss:0.405864953994751\n",
            "Epoch: 2  Batch: 200  Loss:0.32412487268447876\n",
            "Epoch: 2  Batch: 300  Loss:0.020115286111831665\n",
            "Epoch: 2  Batch: 400  Loss:0.12403635680675507\n",
            "Epoch: 2  Batch: 500  Loss:1.2039659850415774e-05\n",
            "Epoch: 2  Batch: 600  Loss:0.008384504355490208\n",
            "Epoch: 2  Batch: 700  Loss:0.026898866519331932\n",
            "Epoch: 3  Batch: 100  Loss:0.008994873613119125\n",
            "Epoch: 3  Batch: 200  Loss:0.11620432138442993\n",
            "Epoch: 3  Batch: 300  Loss:0.3328413963317871\n",
            "Epoch: 3  Batch: 400  Loss:0.503435492515564\n",
            "Epoch: 3  Batch: 500  Loss:0.009949875064194202\n",
            "Epoch: 3  Batch: 600  Loss:0.22322435677051544\n",
            "Epoch: 3  Batch: 700  Loss:0.12284588813781738\n",
            "Epoch: 4  Batch: 100  Loss:0.019338902086019516\n",
            "Epoch: 4  Batch: 200  Loss:0.2419366091489792\n",
            "Epoch: 4  Batch: 300  Loss:0.0009916902054101229\n",
            "Epoch: 4  Batch: 400  Loss:0.00010473067231941968\n",
            "Epoch: 4  Batch: 500  Loss:0.0013336833799257874\n",
            "Epoch: 4  Batch: 600  Loss:0.03537698835134506\n",
            "Epoch: 4  Batch: 700  Loss:0.3123354911804199\n",
            "Epoch: 5  Batch: 100  Loss:0.0010329223005101085\n",
            "Epoch: 5  Batch: 200  Loss:0.0018717771163210273\n",
            "Epoch: 5  Batch: 300  Loss:0.17584499716758728\n",
            "Epoch: 5  Batch: 400  Loss:7.242128776852041e-05\n",
            "Epoch: 5  Batch: 500  Loss:0.5168794393539429\n",
            "Epoch: 5  Batch: 600  Loss:0.103021539747715\n",
            "Epoch: 5  Batch: 700  Loss:0.0056801955215632915\n",
            "Epoch: 6  Batch: 100  Loss:0.010064967907965183\n",
            "Epoch: 6  Batch: 200  Loss:0.09820432960987091\n",
            "Epoch: 6  Batch: 300  Loss:0.33116498589515686\n",
            "Epoch: 6  Batch: 400  Loss:0.04297991842031479\n",
            "Epoch: 6  Batch: 500  Loss:0.2639921307563782\n",
            "Epoch: 6  Batch: 600  Loss:0.00516102509573102\n",
            "Epoch: 6  Batch: 700  Loss:0.00012441925355233252\n",
            "Epoch: 7  Batch: 100  Loss:0.34729060530662537\n",
            "Epoch: 7  Batch: 200  Loss:3.9444665162591264e-05\n",
            "Epoch: 7  Batch: 300  Loss:0.11921320110559464\n",
            "Epoch: 7  Batch: 400  Loss:0.2989196181297302\n",
            "Epoch: 7  Batch: 500  Loss:9.498540021013469e-05\n",
            "Epoch: 7  Batch: 600  Loss:0.7178509831428528\n",
            "Epoch: 7  Batch: 700  Loss:0.06076594069600105\n",
            "Epoch: 8  Batch: 100  Loss:0.0005936987581662834\n",
            "Epoch: 8  Batch: 200  Loss:0.02176668867468834\n",
            "Epoch: 8  Batch: 300  Loss:0.7694699168205261\n",
            "Epoch: 8  Batch: 400  Loss:0.22650372982025146\n",
            "Epoch: 8  Batch: 500  Loss:0.2504207491874695\n",
            "Epoch: 8  Batch: 600  Loss:0.011761066503822803\n",
            "Epoch: 8  Batch: 700  Loss:0.00016353747923858464\n",
            "Epoch: 9  Batch: 100  Loss:0.0005494602955877781\n",
            "Epoch: 9  Batch: 200  Loss:0.008077260106801987\n",
            "Epoch: 9  Batch: 300  Loss:0.000289570918539539\n",
            "Epoch: 9  Batch: 400  Loss:1.3469779332808685e-05\n",
            "Epoch: 9  Batch: 500  Loss:0.002685690298676491\n",
            "Epoch: 9  Batch: 600  Loss:0.020665578544139862\n",
            "Epoch: 9  Batch: 700  Loss:0.3700788617134094\n",
            "Total time taken to finish the training = 1.7892930030822753 mins\n"
          ]
        }
      ]
    },
    {
      "cell_type": "markdown",
      "source": [
        "## Accuracy with Testing Data"
      ],
      "metadata": {
        "id": "go87WIZa8SCC"
      }
    },
    {
      "cell_type": "code",
      "source": [
        "with torch.no_grad():\n",
        "  correct=0\n",
        "  for X_test,y_test in test_loader:\n",
        "    y_val=Detector(X_test)\n",
        "    predicted=torch.max(y_val,1)[1]\n",
        "    correct+=(predicted==y_test).sum()\n",
        "print(f\"{(correct.item()/len(test_data))*100} %\")"
      ],
      "metadata": {
        "colab": {
          "base_uri": "https://localhost:8080/"
        },
        "id": "58Kp7fh4rg2A",
        "outputId": "1336a1b4-f705-4254-b7a7-316b1387e14b"
      },
      "execution_count": 40,
      "outputs": [
        {
          "output_type": "stream",
          "name": "stdout",
          "text": [
            "91.92825112107623 %\n"
          ]
        }
      ]
    },
    {
      "cell_type": "markdown",
      "source": [
        "## Random Digit Test"
      ],
      "metadata": {
        "id": "yvZuH_oV8uBX"
      }
    },
    {
      "cell_type": "code",
      "source": [
        "test_data"
      ],
      "metadata": {
        "colab": {
          "base_uri": "https://localhost:8080/"
        },
        "id": "Qr9_vP5Wrgzm",
        "outputId": "fccaa4a9-a48d-46af-8109-64cc14e27f65"
      },
      "execution_count": 41,
      "outputs": [
        {
          "output_type": "execute_result",
          "data": {
            "text/plain": [
              "Dataset USPS\n",
              "    Number of datapoints: 2007\n",
              "    Root location: ./usps_data_test\n",
              "    StandardTransform\n",
              "Transform: ToTensor()"
            ]
          },
          "metadata": {},
          "execution_count": 41
        }
      ]
    },
    {
      "cell_type": "code",
      "source": [
        "sample_image,sample_tag=test_data[1900][0],test_data[1900][1]"
      ],
      "metadata": {
        "id": "xaysbE9Qrgxa"
      },
      "execution_count": 42,
      "outputs": []
    },
    {
      "cell_type": "code",
      "source": [
        "sample_image"
      ],
      "metadata": {
        "colab": {
          "base_uri": "https://localhost:8080/"
        },
        "id": "B52jaNKUrgui",
        "outputId": "af304a8b-a49b-4ea3-b35d-a0fad23663f6"
      },
      "execution_count": 43,
      "outputs": [
        {
          "output_type": "execute_result",
          "data": {
            "text/plain": [
              "tensor([[[0.0000, 0.0000, 0.0000, 0.0157, 0.1098, 0.3216, 0.5373, 0.6275,\n",
              "          0.4510, 0.2235, 0.0667, 0.0078, 0.0000, 0.0000, 0.0000, 0.0000],\n",
              "         [0.0000, 0.0000, 0.0039, 0.0784, 0.3412, 0.6941, 0.8784, 0.8941,\n",
              "          0.7412, 0.5412, 0.2627, 0.0784, 0.0118, 0.0000, 0.0000, 0.0000],\n",
              "         [0.0000, 0.0000, 0.0353, 0.2275, 0.6196, 0.9059, 0.9765, 0.9020,\n",
              "          0.6941, 0.5843, 0.5059, 0.3020, 0.0941, 0.0118, 0.0000, 0.0000],\n",
              "         [0.0000, 0.0078, 0.1216, 0.4706, 0.8314, 0.9647, 0.9412, 0.7686,\n",
              "          0.4275, 0.3216, 0.5333, 0.5961, 0.3294, 0.1020, 0.0157, 0.0000],\n",
              "         [0.0000, 0.0314, 0.2471, 0.6941, 0.9412, 0.9373, 0.7647, 0.4902,\n",
              "          0.1804, 0.1137, 0.3686, 0.6784, 0.6510, 0.3490, 0.0902, 0.0078],\n",
              "         [0.0039, 0.0784, 0.3843, 0.8118, 0.9647, 0.8353, 0.4706, 0.1804,\n",
              "          0.0392, 0.0275, 0.1725, 0.5294, 0.8000, 0.6471, 0.2510, 0.0392],\n",
              "         [0.0078, 0.1333, 0.5216, 0.8784, 0.9333, 0.6824, 0.2549, 0.0431,\n",
              "          0.0039, 0.0039, 0.0667, 0.3490, 0.7765, 0.8078, 0.4314, 0.0980],\n",
              "         [0.0157, 0.2039, 0.6627, 0.9255, 0.8549, 0.4784, 0.1255, 0.0118,\n",
              "          0.0000, 0.0000, 0.0235, 0.2314, 0.6980, 0.8510, 0.5529, 0.1451],\n",
              "         [0.0471, 0.3020, 0.7608, 0.9451, 0.7765, 0.3255, 0.0549, 0.0000,\n",
              "          0.0000, 0.0000, 0.0235, 0.2314, 0.6941, 0.8549, 0.5608, 0.1490],\n",
              "         [0.1137, 0.4706, 0.8510, 0.9412, 0.7059, 0.2314, 0.0235, 0.0000,\n",
              "          0.0000, 0.0118, 0.0980, 0.3843, 0.7882, 0.8392, 0.4745, 0.1137],\n",
              "         [0.1451, 0.5490, 0.8902, 0.9255, 0.6392, 0.1843, 0.0118, 0.0039,\n",
              "          0.0118, 0.0784, 0.3098, 0.6588, 0.8980, 0.8039, 0.3725, 0.0745],\n",
              "         [0.1137, 0.4745, 0.8549, 0.9137, 0.6235, 0.1922, 0.0510, 0.0863,\n",
              "          0.1333, 0.2902, 0.6353, 0.8863, 0.9176, 0.6824, 0.2510, 0.0353],\n",
              "         [0.0549, 0.3176, 0.7608, 0.9216, 0.7412, 0.3961, 0.3020, 0.4078,\n",
              "          0.4980, 0.6471, 0.8667, 0.9333, 0.7804, 0.4275, 0.1176, 0.0118],\n",
              "         [0.0157, 0.1686, 0.5412, 0.8235, 0.8902, 0.8118, 0.7882, 0.8314,\n",
              "          0.8627, 0.8980, 0.9020, 0.7686, 0.4706, 0.1686, 0.0275, 0.0000],\n",
              "         [0.0000, 0.0471, 0.2235, 0.5020, 0.7647, 0.8941, 0.9373, 0.9176,\n",
              "          0.8824, 0.8275, 0.6667, 0.4157, 0.1647, 0.0314, 0.0000, 0.0000],\n",
              "         [0.0000, 0.0039, 0.0431, 0.1647, 0.3804, 0.5922, 0.6902, 0.6314,\n",
              "          0.5412, 0.4392, 0.2627, 0.1098, 0.0275, 0.0000, 0.0000, 0.0000]]])"
            ]
          },
          "metadata": {},
          "execution_count": 43
        }
      ]
    },
    {
      "cell_type": "code",
      "source": [
        "sample_tag"
      ],
      "metadata": {
        "colab": {
          "base_uri": "https://localhost:8080/"
        },
        "id": "GRwsycdtrgr7",
        "outputId": "536c6f8f-6092-41d2-ded1-c333d5d6fb72"
      },
      "execution_count": 44,
      "outputs": [
        {
          "output_type": "execute_result",
          "data": {
            "text/plain": [
              "0"
            ]
          },
          "metadata": {},
          "execution_count": 44
        }
      ]
    },
    {
      "cell_type": "code",
      "source": [
        "plt.imshow(sample_image.reshape(16,16))"
      ],
      "metadata": {
        "colab": {
          "base_uri": "https://localhost:8080/",
          "height": 447
        },
        "id": "BxlOjIaa9WN_",
        "outputId": "65000d71-4aa0-4d2c-a1fb-74e7fb1bdcd8"
      },
      "execution_count": 45,
      "outputs": [
        {
          "output_type": "execute_result",
          "data": {
            "text/plain": [
              "<matplotlib.image.AxesImage at 0x7a4de60a6fd0>"
            ]
          },
          "metadata": {},
          "execution_count": 45
        },
        {
          "output_type": "display_data",
          "data": {
            "text/plain": [
              "<Figure size 640x480 with 1 Axes>"
            ],
            "image/png": "[encoded data removed]"
          },
          "metadata": {}
        }
      ]
    },
    {
      "cell_type": "code",
      "source": [
        "Detector.eval()\n",
        "with torch.no_grad():\n",
        "  new_predict=Detector(test_data[1900][0].view(1,1,16,16))"
      ],
      "metadata": {
        "id": "T81PwwRJ9qty"
      },
      "execution_count": 46,
      "outputs": []
    },
    {
      "cell_type": "code",
      "source": [
        "new_predict"
      ],
      "metadata": {
        "colab": {
          "base_uri": "https://localhost:8080/"
        },
        "id": "nEaq5T2F9-eu",
        "outputId": "998e6917-026f-4945-bfdb-b5f816bca690"
      },
      "execution_count": 47,
      "outputs": [
        {
          "output_type": "execute_result",
          "data": {
            "text/plain": [
              "tensor([[  0.0000, -72.6391, -29.2548, -52.5797, -35.8210, -49.0934, -50.4316,\n",
              "         -39.4292, -50.5339, -54.0491]])"
            ]
          },
          "metadata": {},
          "execution_count": 47
        }
      ]
    },
    {
      "cell_type": "code",
      "source": [
        "new_predict.argmax()"
      ],
      "metadata": {
        "colab": {
          "base_uri": "https://localhost:8080/"
        },
        "id": "OP-m7ViP9_s-",
        "outputId": "851e039e-654d-4359-8059-4fbba7ee020a"
      },
      "execution_count": 48,
      "outputs": [
        {
          "output_type": "execute_result",
          "data": {
            "text/plain": [
              "tensor(0)"
            ]
          },
          "metadata": {},
          "execution_count": 48
        }
      ]
    },
    {
      "cell_type": "markdown",
      "source": [
        "## Random Digit Testing - 2"
      ],
      "metadata": {
        "id": "SRLUyM-T_u91"
      }
    },
    {
      "cell_type": "code",
      "source": [
        "sample_image,sample_tag=test_data[500][0],test_data[500][1]\n",
        "plt.imshow(sample_image.reshape(16,16))\n",
        "Detector.eval()\n",
        "with torch.no_grad():\n",
        "  new_predict=Detector(sample_image.view(1,1,16,16))"
      ],
      "metadata": {
        "colab": {
          "base_uri": "https://localhost:8080/",
          "height": 430
        },
        "id": "IO_0HnwT-CMb",
        "outputId": "819b4c01-6066-433a-fec6-f152983d095b"
      },
      "execution_count": 49,
      "outputs": [
        {
          "output_type": "display_data",
          "data": {
            "text/plain": [
              "<Figure size 640x480 with 1 Axes>"
            ],
            "image/png": "[encoded data removed]"
          },
          "metadata": {}
        }
      ]
    },
    {
      "cell_type": "code",
      "source": [
        "new_predict"
      ],
      "metadata": {
        "colab": {
          "base_uri": "https://localhost:8080/"
        },
        "id": "h9eRhBPIAAww",
        "outputId": "8f667469-cce0-4388-c671-ec57e7849acc"
      },
      "execution_count": 50,
      "outputs": [
        {
          "output_type": "execute_result",
          "data": {
            "text/plain": [
              "tensor([[-1.4692e+01, -1.8074e+01, -1.2017e+01, -2.1527e-04, -1.6906e+01,\n",
              "         -8.4844e+00, -2.4986e+01, -1.7336e+01, -1.3124e+01, -1.5697e+01]])"
            ]
          },
          "metadata": {},
          "execution_count": 50
        }
      ]
    },
    {
      "cell_type": "code",
      "source": [
        "new_predict.argmax()"
      ],
      "metadata": {
        "colab": {
          "base_uri": "https://localhost:8080/"
        },
        "id": "Mu0ZFL00AGzl",
        "outputId": "f933fab9-15b6-4331-bbb9-7bec609396cc"
      },
      "execution_count": 51,
      "outputs": [
        {
          "output_type": "execute_result",
          "data": {
            "text/plain": [
              "tensor(3)"
            ]
          },
          "metadata": {},
          "execution_count": 51
        }
      ]
    },
    {
      "cell_type": "markdown",
      "source": [
        "## Accuracy on Overall Test Data"
      ],
      "metadata": {
        "id": "RzMoXUlqdUhq"
      }
    },
    {
      "cell_type": "code",
      "source": [
        "with torch.no_grad():\n",
        "  correct=0\n",
        "  for X_test,y_test in test_loader:\n",
        "    y_pred=Detector(X_test)\n",
        "    predicted=torch.max(y_pred,1)[1]\n",
        "    correct+=(predicted==y_test).sum()\n",
        "\n",
        "print(f\"Accuracy on Test Data: {correct.item()/len(test_data)}\")"
      ],
      "metadata": {
        "colab": {
          "base_uri": "https://localhost:8080/"
        },
        "id": "cC_MSzRiAI0U",
        "outputId": "2bc72bcd-c621-423d-852a-6c5053fa6e16"
      },
      "execution_count": 52,
      "outputs": [
        {
          "output_type": "stream",
          "name": "stdout",
          "text": [
            "Accuracy on Test Data: 0.9192825112107623\n"
          ]
        }
      ]
    }
  ]
}