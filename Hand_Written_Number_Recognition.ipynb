{
  "nbformat": 4,
  "nbformat_minor": 0,
  "metadata": {
    "colab": {
      "provenance": [],
      "authorship_tag": "ABX9TyNX8NVup8FHz6s6z85HvQDt",
      "include_colab_link": true
    },
    "kernelspec": {
      "name": "python3",
      "display_name": "Python 3"
    },
    "language_info": {
      "name": "python"
    }
  },
  "cells": [
    {
      "cell_type": "markdown",
      "metadata": {
        "id": "view-in-github",
        "colab_type": "text"
      },
      "source": [
        "<a href=\"https://colab.research.google.com/github/gautam-pai/Handwritten-Digit-Recognition/blob/main/Hand_Written_Number_Recognition.ipynb\" target=\"_parent\"><img src=\"https://colab.research.google.com/assets/colab-badge.svg\" alt=\"Open In Colab\"/></a>"
      ]
    },
    {
      "cell_type": "code",
      "execution_count": 1,
      "metadata": {
        "id": "SnW_4X8yb6Us"
      },
      "outputs": [],
      "source": [
        "import torch\n",
        "import torch.nn as nn\n",
        "import torch.nn.functional as F\n",
        "from torch.utils.data import DataLoader\n",
        "from torchvision import datasets, transforms\n",
        "\n",
        "\n",
        "\n",
        "import pandas as pd\n",
        "import numpy as np\n",
        "from sklearn.metrics import confusion_matrix\n",
        "import matplotlib.pyplot as plt\n",
        "%matplotlib inline"
      ]
    },
    {
      "cell_type": "code",
      "source": [
        "import torch\n",
        "device = torch.device(\"cuda\" if torch.cuda.is_available() else \"cpu\")\n"
      ],
      "metadata": {
        "id": "yavBuh99d8RW"
      },
      "execution_count": 32,
      "outputs": []
    },
    {
      "cell_type": "markdown",
      "source": [
        "## Importing datasets"
      ],
      "metadata": {
        "id": "hjOmyCxqhoa1"
      }
    },
    {
      "cell_type": "code",
      "source": [
        "train_data=datasets.USPS(root='./usps_data_train',train=True,transform=transforms.ToTensor(),download=True)"
      ],
      "metadata": {
        "colab": {
          "base_uri": "https://localhost:8080/"
        },
        "id": "Ycs-B7qYhCYs",
        "outputId": "df3563ea-5f96-4634-cc95-0998d57c5daf"
      },
      "execution_count": 3,
      "outputs": [
        {
          "output_type": "stream",
          "name": "stdout",
          "text": [
            "Downloading https://www.csie.ntu.edu.tw/~cjlin/libsvmtools/datasets/multiclass/usps.bz2 to ./usps_data_train/usps.bz2\n"
          ]
        },
        {
          "output_type": "stream",
          "name": "stderr",
          "text": [
            "100%|██████████| 6.58M/6.58M [00:01<00:00, 4.80MB/s]\n"
          ]
        }
      ]
    },
    {
      "cell_type": "code",
      "source": [
        "test_data=datasets.USPS(root='./usps_data_test',train=False,transform=transforms.ToTensor(),download=True)"
      ],
      "metadata": {
        "colab": {
          "base_uri": "https://localhost:8080/"
        },
        "id": "hmtYT5zgf05s",
        "outputId": "d28a29e7-e015-477b-ecc2-3b23a0fce9f2"
      },
      "execution_count": 4,
      "outputs": [
        {
          "output_type": "stream",
          "name": "stdout",
          "text": [
            "Downloading https://www.csie.ntu.edu.tw/~cjlin/libsvmtools/datasets/multiclass/usps.t.bz2 to ./usps_data_test/usps.t.bz2\n"
          ]
        },
        {
          "output_type": "stream",
          "name": "stderr",
          "text": [
            "100%|██████████| 1.83M/1.83M [00:00<00:00, 1.89MB/s]\n"
          ]
        }
      ]
    },
    {
      "cell_type": "code",
      "source": [
        "train_data"
      ],
      "metadata": {
        "colab": {
          "base_uri": "https://localhost:8080/"
        },
        "id": "pshAjUwxf2CO",
        "outputId": "d03eab4b-3c93-47d2-cb65-9461cdd6ead4"
      },
      "execution_count": 5,
      "outputs": [
        {
          "output_type": "execute_result",
          "data": {
            "text/plain": [
              "Dataset USPS\n",
              "    Number of datapoints: 7291\n",
              "    Root location: ./usps_data_train\n",
              "    StandardTransform\n",
              "Transform: ToTensor()"
            ]
          },
          "metadata": {},
          "execution_count": 5
        }
      ]
    },
    {
      "cell_type": "code",
      "source": [
        "test_data"
      ],
      "metadata": {
        "colab": {
          "base_uri": "https://localhost:8080/"
        },
        "id": "__4_dwLef1_Z",
        "outputId": "b15223ef-ed77-456f-9b5b-460324a661fa"
      },
      "execution_count": 6,
      "outputs": [
        {
          "output_type": "execute_result",
          "data": {
            "text/plain": [
              "Dataset USPS\n",
              "    Number of datapoints: 2007\n",
              "    Root location: ./usps_data_test\n",
              "    StandardTransform\n",
              "Transform: ToTensor()"
            ]
          },
          "metadata": {},
          "execution_count": 6
        }
      ]
    },
    {
      "cell_type": "code",
      "source": [
        "train_loader=DataLoader(dataset=train_data,batch_size=10,shuffle=True)\n",
        "test_loader=DataLoader(dataset=test_data,batch_size=10,shuffle=False)"
      ],
      "metadata": {
        "id": "O3_BKnuZf18B"
      },
      "execution_count": 7,
      "outputs": []
    },
    {
      "cell_type": "markdown",
      "source": [
        "## Data Exploration"
      ],
      "metadata": {
        "id": "IWKWAClSlxwF"
      }
    },
    {
      "cell_type": "code",
      "source": [
        "sample=train_data[100]\n",
        "sample"
      ],
      "metadata": {
        "colab": {
          "base_uri": "https://localhost:8080/"
        },
        "id": "p6pbKPyOf12x",
        "outputId": "90e87e4c-cdec-4b29-a5b6-de5d82e29867"
      },
      "execution_count": 8,
      "outputs": [
        {
          "output_type": "execute_result",
          "data": {
            "text/plain": [
              "(tensor([[[0.0000, 0.0039, 0.0510, 0.2000, 0.4431, 0.6392, 0.6941, 0.6824,\n",
              "           0.6196, 0.5020, 0.3529, 0.1922, 0.0588, 0.0039, 0.0000, 0.0000],\n",
              "          [0.0000, 0.0353, 0.2039, 0.5176, 0.7216, 0.7294, 0.6588, 0.6235,\n",
              "           0.6235, 0.6353, 0.6392, 0.5294, 0.2235, 0.0392, 0.0000, 0.0000],\n",
              "          [0.0039, 0.0941, 0.4039, 0.7020, 0.6118, 0.3569, 0.2157, 0.1843,\n",
              "           0.1961, 0.2588, 0.4588, 0.6431, 0.3765, 0.0824, 0.0039, 0.0000],\n",
              "          [0.0078, 0.1333, 0.5098, 0.6824, 0.3490, 0.0902, 0.0196, 0.0118,\n",
              "           0.0118, 0.0471, 0.2431, 0.4941, 0.3137, 0.0706, 0.0039, 0.0000],\n",
              "          [0.0078, 0.1255, 0.4863, 0.6392, 0.2667, 0.0353, 0.0000, 0.0000,\n",
              "           0.0000, 0.0157, 0.0980, 0.2118, 0.1608, 0.0549, 0.0078, 0.0000],\n",
              "          [0.0039, 0.0863, 0.3882, 0.6431, 0.3765, 0.0863, 0.0078, 0.0039,\n",
              "           0.0314, 0.1098, 0.2118, 0.3020, 0.3176, 0.1882, 0.0471, 0.0000],\n",
              "          [0.0000, 0.0353, 0.2314, 0.5608, 0.5490, 0.2392, 0.0627, 0.0824,\n",
              "           0.2196, 0.4353, 0.6118, 0.6627, 0.5922, 0.3490, 0.0902, 0.0039],\n",
              "          [0.0000, 0.0078, 0.0824, 0.3216, 0.5647, 0.4980, 0.3059, 0.3765,\n",
              "           0.5922, 0.7059, 0.6745, 0.5373, 0.3725, 0.1804, 0.0392, 0.0000],\n",
              "          [0.0000, 0.0000, 0.0157, 0.1137, 0.3843, 0.6549, 0.6980, 0.7412,\n",
              "           0.7020, 0.5216, 0.3098, 0.1647, 0.0824, 0.0314, 0.0039, 0.0000],\n",
              "          [0.0000, 0.0000, 0.0078, 0.0824, 0.3373, 0.6784, 0.8235, 0.7843,\n",
              "           0.4902, 0.2039, 0.0627, 0.0157, 0.0039, 0.0000, 0.0000, 0.0000],\n",
              "          [0.0000, 0.0000, 0.0549, 0.2588, 0.5647, 0.6824, 0.6275, 0.6314,\n",
              "           0.4784, 0.2157, 0.0510, 0.0039, 0.0000, 0.0000, 0.0000, 0.0000],\n",
              "          [0.0000, 0.0118, 0.1569, 0.5216, 0.6745, 0.4549, 0.2510, 0.3373,\n",
              "           0.5373, 0.4784, 0.2078, 0.0392, 0.0000, 0.0000, 0.0000, 0.0000],\n",
              "          [0.0000, 0.0275, 0.2431, 0.6392, 0.5765, 0.2314, 0.0627, 0.1216,\n",
              "           0.3843, 0.6235, 0.4667, 0.1333, 0.0078, 0.0000, 0.0000, 0.0000],\n",
              "          [0.0000, 0.0275, 0.2196, 0.5647, 0.5529, 0.3176, 0.1961, 0.2000,\n",
              "           0.3529, 0.6510, 0.6353, 0.2196, 0.0196, 0.0000, 0.0000, 0.0000],\n",
              "          [0.0000, 0.0078, 0.0902, 0.3059, 0.5137, 0.5765, 0.5686, 0.5922,\n",
              "           0.6627, 0.7647, 0.6392, 0.2196, 0.0235, 0.0000, 0.0000, 0.0000],\n",
              "          [0.0000, 0.0000, 0.0118, 0.0784, 0.2118, 0.3765, 0.5176, 0.6196,\n",
              "           0.6667, 0.6118, 0.3882, 0.1137, 0.0078, 0.0000, 0.0000, 0.0000]]]),\n",
              " 8)"
            ]
          },
          "metadata": {},
          "execution_count": 8
        }
      ]
    },
    {
      "cell_type": "code",
      "source": [
        "sample_image,sample_tag=sample[0],sample[1]"
      ],
      "metadata": {
        "id": "ZLPotPkaf1zy"
      },
      "execution_count": 9,
      "outputs": []
    },
    {
      "cell_type": "code",
      "source": [
        "sample_image.shape"
      ],
      "metadata": {
        "colab": {
          "base_uri": "https://localhost:8080/"
        },
        "id": "XCgCr0FDmDOL",
        "outputId": "b7707d64-9bc1-4e20-ad99-97433636870a"
      },
      "execution_count": 10,
      "outputs": [
        {
          "output_type": "execute_result",
          "data": {
            "text/plain": [
              "torch.Size([1, 16, 16])"
            ]
          },
          "metadata": {},
          "execution_count": 10
        }
      ]
    },
    {
      "cell_type": "code",
      "source": [
        "plt.imshow(sample_image.reshape(16,16))\n",
        "plt.title(f'Tag for the image is {sample_tag}')"
      ],
      "metadata": {
        "colab": {
          "base_uri": "https://localhost:8080/",
          "height": 470
        },
        "id": "5oO1D6srmGHT",
        "outputId": "a49d7f23-852b-45bc-d21d-d840f8a15735"
      },
      "execution_count": 11,
      "outputs": [
        {
          "output_type": "execute_result",
          "data": {
            "text/plain": [
              "Text(0.5, 1.0, 'Tag for the image is 8')"
            ]
          },
          "metadata": {},
          "execution_count": 11
        },
        {
          "output_type": "display_data",
          "data": {
            "text/plain": [
              "<Figure size 640x480 with 1 Axes>"
            ],
            "image/png": "[encoded data removed]"
          },
          "metadata": {}
        }
      ]
    },
    {
      "cell_type": "markdown",
      "source": [
        "## Neural Network Model"
      ],
      "metadata": {
        "id": "pomvVYQgmeSI"
      }
    },
    {
      "cell_type": "code",
      "source": [
        "class NumberDetector(nn.Module):\n",
        "  def __init__(self):\n",
        "    super().__init__()\n",
        "    ## Convolutional Layers - The first in_channel is so that 1 image in 1 channel is passed, The remaining 10,20,30 are arbitrarily chosen\n",
        "    self.conv1=nn.Conv2d(in_channels=1,out_channels=10,kernel_size=3,stride=1)\n",
        "    self.conv2=nn.Conv2d(in_channels=10,out_channels=20,kernel_size=3,stride=1)\n",
        "    self.conv3=nn.Conv2d(in_channels=20,out_channels=30,kernel_size=3,stride=1)\n",
        "\n",
        "    ## Fully Connected Layers\n",
        "    self.fc1=nn.Linear(30*10*10,out_features=100) # Since the output of Convolution will be a 10*10 image across 30 channels in-features will be 30*10*10.  The out features is also arbitrarily chosen.\n",
        "    self.fc2=nn.Linear(100,50) # The output of previous linear layer is 100, so input here will be 100. And output we've arbitrarily chosen as 50\n",
        "    self.fc3=nn.Linear(50,10) # we want the final output to be 10, because there are 10 digits possible.\n",
        "\n",
        "  def forward(self,X):\n",
        "    # First convolution and relu activation\n",
        "    X=F.relu(self.conv1(X))\n",
        "    # Second Convolution and relu activation\n",
        "    X=F.relu(self.conv2(X))\n",
        "    # Third Convolution and relu activation\n",
        "    X=F.relu(self.conv3(X))\n",
        "\n",
        "    ## Flattening\n",
        "    X=X.view(-1,30*10*10)\n",
        "\n",
        "    # ANN Layers/ Neural Networks\n",
        "    X=F.relu(self.fc1(X))\n",
        "    X=F.relu(self.fc2(X))\n",
        "    X=self.fc3(X)\n",
        "\n",
        "    return F.log_softmax(X,dim=1)\n",
        "\n"
      ],
      "metadata": {
        "id": "22ezPDS0mM80"
      },
      "execution_count": 12,
      "outputs": []
    },
    {
      "cell_type": "code",
      "source": [
        "Detector=NumberDetector()"
      ],
      "metadata": {
        "id": "g6NGccJaruIZ"
      },
      "execution_count": 13,
      "outputs": []
    },
    {
      "cell_type": "code",
      "source": [
        "Detector"
      ],
      "metadata": {
        "colab": {
          "base_uri": "https://localhost:8080/"
        },
        "id": "BilWfQOJruAO",
        "outputId": "dda14942-6d85-4fde-a1c2-30fb98ad1df6"
      },
      "execution_count": 14,
      "outputs": [
        {
          "output_type": "execute_result",
          "data": {
            "text/plain": [
              "NumberDetector(\n",
              "  (conv1): Conv2d(1, 10, kernel_size=(3, 3), stride=(1, 1))\n",
              "  (conv2): Conv2d(10, 20, kernel_size=(3, 3), stride=(1, 1))\n",
              "  (conv3): Conv2d(20, 30, kernel_size=(3, 3), stride=(1, 1))\n",
              "  (fc1): Linear(in_features=3000, out_features=100, bias=True)\n",
              "  (fc2): Linear(in_features=100, out_features=50, bias=True)\n",
              "  (fc3): Linear(in_features=50, out_features=10, bias=True)\n",
              ")"
            ]
          },
          "metadata": {},
          "execution_count": 14
        }
      ]
    },
    {
      "cell_type": "markdown",
      "source": [
        "## Loss Function Optimizer"
      ],
      "metadata": {
        "id": "-HEsnFrMy1qU"
      }
    },
    {
      "cell_type": "code",
      "source": [
        "criterion=nn.CrossEntropyLoss()\n",
        "optimizer=torch.optim.Adam(Detector.parameters(),lr=0.01)"
      ],
      "metadata": {
        "id": "OYQhndmrrt9q"
      },
      "execution_count": 15,
      "outputs": []
    },
    {
      "cell_type": "markdown",
      "source": [
        "## Training the model"
      ],
      "metadata": {
        "id": "4X2uu8yQzd-F"
      }
    },
    {
      "cell_type": "code",
      "source": [
        "import time\n",
        "start_time=time.time()\n",
        "epochs=10\n",
        "train_losses=[]\n",
        "test_losses=[]\n",
        "train_correct=[]\n",
        "test_correct=[]\n",
        "\n",
        "\n",
        "for i in range(epochs):\n",
        "  trn_corr=0\n",
        "  tst_corr=0\n",
        "  ## Train Data\n",
        "  for b,(X_Train,y_train) in enumerate(train_loader):\n",
        "    b+=1\n",
        "    y_pred=Detector(X_Train)\n",
        "    loss=criterion(y_pred,y_train)\n",
        "\n",
        "    predicted=torch.max(y_pred.data,1)[1]\n",
        "    batch_corr=(predicted==y_train).sum()\n",
        "    trn_corr+=batch_corr\n",
        "\n",
        "    ## Optimization of weights\n",
        "    optimizer.zero_grad()\n",
        "    loss.backward()\n",
        "    optimizer.step()\n",
        "\n",
        "    # Printing the loss % after certain number of data has been used to train\n",
        "    if b%100==0:\n",
        "      print(f'Epoch: {i}  Batch: {b}  Loss:{loss.item()}')\n",
        "\n",
        "    train_losses.append(loss)\n",
        "    train_correct.append(trn_corr)\n",
        "\n",
        "    ## Testing\n",
        "    with torch.no_grad():\n",
        "      for b,(X_test,y_test) in enumerate(test_loader):\n",
        "        y_val=Detector(X_test)\n",
        "        predicted=torch.max(y_val.data,1)[1]\n",
        "        tst_corr+=(predicted==y_test).sum()\n",
        "\n",
        "    loss=criterion(y_val,y_test)\n",
        "    test_losses.append(loss)\n",
        "    test_correct.append(tst_corr)\n",
        "current_time=time.time()\n",
        "print(f'Total time taken to finish the training = {(current_time-start_time)/60 } mins')"
      ],
      "metadata": {
        "colab": {
          "base_uri": "https://localhost:8080/"
        },
        "id": "yo2XxAvUrt6B",
        "outputId": "e8cb81d3-a341-4b96-9bf5-35ba935d586d"
      },
      "execution_count": 16,
      "outputs": [
        {
          "output_type": "stream",
          "name": "stdout",
          "text": [
            "Epoch: 0  Batch: 100  Loss:0.8606482744216919\n",
            "Epoch: 0  Batch: 200  Loss:0.6632416844367981\n",
            "Epoch: 0  Batch: 300  Loss:0.7557477355003357\n",
            "Epoch: 0  Batch: 400  Loss:0.03569580614566803\n",
            "Epoch: 0  Batch: 500  Loss:0.5598807334899902\n",
            "Epoch: 0  Batch: 600  Loss:0.5104622840881348\n",
            "Epoch: 0  Batch: 700  Loss:0.6886119842529297\n",
            "Epoch: 1  Batch: 100  Loss:0.14539813995361328\n",
            "Epoch: 1  Batch: 200  Loss:0.05375654250383377\n",
            "Epoch: 1  Batch: 300  Loss:0.0539667084813118\n",
            "Epoch: 1  Batch: 400  Loss:0.06921635568141937\n",
            "Epoch: 1  Batch: 500  Loss:0.17389646172523499\n",
            "Epoch: 1  Batch: 600  Loss:0.5532239675521851\n",
            "Epoch: 1  Batch: 700  Loss:0.13379183411598206\n",
            "Epoch: 2  Batch: 100  Loss:0.057371050119400024\n",
            "Epoch: 2  Batch: 200  Loss:0.165249302983284\n",
            "Epoch: 2  Batch: 300  Loss:0.04038955643773079\n",
            "Epoch: 2  Batch: 400  Loss:0.036375805735588074\n",
            "Epoch: 2  Batch: 500  Loss:0.006826295051723719\n",
            "Epoch: 2  Batch: 600  Loss:0.07218679040670395\n",
            "Epoch: 2  Batch: 700  Loss:0.2141999751329422\n",
            "Epoch: 3  Batch: 100  Loss:0.006226408760994673\n",
            "Epoch: 3  Batch: 200  Loss:0.01767631433904171\n",
            "Epoch: 3  Batch: 300  Loss:0.0014369238633662462\n",
            "Epoch: 3  Batch: 400  Loss:0.04244179278612137\n",
            "Epoch: 3  Batch: 500  Loss:0.001087238546460867\n",
            "Epoch: 3  Batch: 600  Loss:0.7785263061523438\n",
            "Epoch: 3  Batch: 700  Loss:0.008196214213967323\n",
            "Epoch: 4  Batch: 100  Loss:0.04081057012081146\n",
            "Epoch: 4  Batch: 200  Loss:0.0024033295921981335\n",
            "Epoch: 4  Batch: 300  Loss:0.0314834862947464\n",
            "Epoch: 4  Batch: 400  Loss:0.24119195342063904\n",
            "Epoch: 4  Batch: 500  Loss:0.5000367164611816\n",
            "Epoch: 4  Batch: 600  Loss:0.012255972251296043\n",
            "Epoch: 4  Batch: 700  Loss:0.0012604105286300182\n",
            "Epoch: 5  Batch: 100  Loss:0.0002415941999061033\n",
            "Epoch: 5  Batch: 200  Loss:0.08362774550914764\n",
            "Epoch: 5  Batch: 300  Loss:0.047989558428525925\n",
            "Epoch: 5  Batch: 400  Loss:0.004973598290234804\n",
            "Epoch: 5  Batch: 500  Loss:0.9968253970146179\n",
            "Epoch: 5  Batch: 600  Loss:0.02335263416171074\n",
            "Epoch: 5  Batch: 700  Loss:0.6691213250160217\n",
            "Epoch: 6  Batch: 100  Loss:0.0018059456488117576\n",
            "Epoch: 6  Batch: 200  Loss:0.0037902952171862125\n",
            "Epoch: 6  Batch: 300  Loss:0.3340151607990265\n",
            "Epoch: 6  Batch: 400  Loss:0.2055693119764328\n",
            "Epoch: 6  Batch: 500  Loss:0.0028862603940069675\n",
            "Epoch: 6  Batch: 600  Loss:0.008668718859553337\n",
            "Epoch: 6  Batch: 700  Loss:0.9194738268852234\n",
            "Epoch: 7  Batch: 100  Loss:0.0121381226927042\n",
            "Epoch: 7  Batch: 200  Loss:0.4964543879032135\n",
            "Epoch: 7  Batch: 300  Loss:0.12971064448356628\n",
            "Epoch: 7  Batch: 400  Loss:0.4168509840965271\n",
            "Epoch: 7  Batch: 500  Loss:0.0002874511992558837\n",
            "Epoch: 7  Batch: 600  Loss:0.1409471333026886\n",
            "Epoch: 7  Batch: 700  Loss:0.34203994274139404\n",
            "Epoch: 8  Batch: 100  Loss:6.102662155171856e-05\n",
            "Epoch: 8  Batch: 200  Loss:0.37491732835769653\n",
            "Epoch: 8  Batch: 300  Loss:0.0007436209707520902\n",
            "Epoch: 8  Batch: 400  Loss:0.0011076517403125763\n",
            "Epoch: 8  Batch: 500  Loss:0.028565656393766403\n",
            "Epoch: 8  Batch: 600  Loss:0.00022506676032207906\n",
            "Epoch: 8  Batch: 700  Loss:0.012196782045066357\n",
            "Epoch: 9  Batch: 100  Loss:0.004747479222714901\n",
            "Epoch: 9  Batch: 200  Loss:0.060840703547000885\n",
            "Epoch: 9  Batch: 300  Loss:0.0003317785740364343\n",
            "Epoch: 9  Batch: 400  Loss:0.02888556942343712\n",
            "Epoch: 9  Batch: 500  Loss:0.009614290669560432\n",
            "Epoch: 9  Batch: 600  Loss:0.0010712288785725832\n",
            "Epoch: 9  Batch: 700  Loss:0.2582431435585022\n",
            "Total time taken to finish the training = 66.39009165366491 mins\n"
          ]
        }
      ]
    },
    {
      "cell_type": "markdown",
      "source": [
        "## Loss Visualization"
      ],
      "metadata": {
        "id": "2ZKB81KCUeDE"
      }
    },
    {
      "cell_type": "code",
      "source": [
        "train_losses= [tl.item() for tl in train_losses]\n",
        "\n",
        "plt.plot(train_losses,label=\"Training loss\")\n",
        "plt.plot(test_losses,label=\"Testing loss\")\n",
        "plt.title(\"Loss at Epoch\")\n",
        "plt.legend()"
      ],
      "metadata": {
        "id": "U5LDDcc4Udnp",
        "outputId": "c91f81ea-7599-4b3a-922b-f268c54aa302",
        "colab": {
          "base_uri": "https://localhost:8080/",
          "height": 470
        }
      },
      "execution_count": 17,
      "outputs": [
        {
          "output_type": "execute_result",
          "data": {
            "text/plain": [
              "<matplotlib.legend.Legend at 0x7df8797f0dd0>"
            ]
          },
          "metadata": {},
          "execution_count": 17
        },
        {
          "output_type": "display_data",
          "data": {
            "text/plain": [
              "<Figure size 640x480 with 1 Axes>"
            ],
            "image/png": "[encoded data removed]"
          },
          "metadata": {}
        }
      ]
    },
    {
      "cell_type": "code",
      "source": [
        "# Accuracy at the end of each epoch\n",
        "\n",
        "plt.plot([t/600 for t in train_correct],label=\"Training Accuracy\")\n",
        "plt.plot([t/100 for t in test_correct],label=\"Validation Accuracy\")\n",
        "plt.title(\"Accuracy at the end of each epoch\")\n",
        "plt.legend()"
      ],
      "metadata": {
        "id": "vteqqg0KUn9m",
        "outputId": "0030dd65-a272-4e3d-d5a0-24d60252b652",
        "colab": {
          "base_uri": "https://localhost:8080/",
          "height": 470
        }
      },
      "execution_count": 18,
      "outputs": [
        {
          "output_type": "execute_result",
          "data": {
            "text/plain": [
              "<matplotlib.legend.Legend at 0x7df879851010>"
            ]
          },
          "metadata": {},
          "execution_count": 18
        },
        {
          "output_type": "display_data",
          "data": {
            "text/plain": [
              "<Figure size 640x480 with 1 Axes>"
            ],
            "image/png": "[encoded data removed]"
          },
          "metadata": {}
        }
      ]
    },
    {
      "cell_type": "markdown",
      "source": [
        "## Accuracy with Testing Data"
      ],
      "metadata": {
        "id": "go87WIZa8SCC"
      }
    },
    {
      "cell_type": "code",
      "source": [
        "with torch.no_grad():\n",
        "  correct=0\n",
        "  for X_test,y_test in test_loader:\n",
        "    y_val=Detector(X_test)\n",
        "    predicted=torch.max(y_val,1)[1]\n",
        "    correct+=(predicted==y_test).sum()\n",
        "print(f\"{(correct.item()/len(test_data))*100} %\")"
      ],
      "metadata": {
        "colab": {
          "base_uri": "https://localhost:8080/"
        },
        "id": "58Kp7fh4rg2A",
        "outputId": "9d2fe316-a45a-41cd-fd38-0670c5ee6a9b"
      },
      "execution_count": 19,
      "outputs": [
        {
          "output_type": "stream",
          "name": "stdout",
          "text": [
            "92.4265072247135 %\n"
          ]
        }
      ]
    },
    {
      "cell_type": "markdown",
      "source": [
        "## Random Digit Test"
      ],
      "metadata": {
        "id": "yvZuH_oV8uBX"
      }
    },
    {
      "cell_type": "code",
      "source": [
        "test_data"
      ],
      "metadata": {
        "colab": {
          "base_uri": "https://localhost:8080/"
        },
        "id": "Qr9_vP5Wrgzm",
        "outputId": "2e96e7fb-a060-4ba0-f021-f0de01ac8de3"
      },
      "execution_count": 20,
      "outputs": [
        {
          "output_type": "execute_result",
          "data": {
            "text/plain": [
              "Dataset USPS\n",
              "    Number of datapoints: 2007\n",
              "    Root location: ./usps_data_test\n",
              "    StandardTransform\n",
              "Transform: ToTensor()"
            ]
          },
          "metadata": {},
          "execution_count": 20
        }
      ]
    },
    {
      "cell_type": "code",
      "source": [
        "sample_image,sample_tag=test_data[1900][0],test_data[1900][1]"
      ],
      "metadata": {
        "id": "xaysbE9Qrgxa"
      },
      "execution_count": 21,
      "outputs": []
    },
    {
      "cell_type": "code",
      "source": [
        "sample_image"
      ],
      "metadata": {
        "colab": {
          "base_uri": "https://localhost:8080/"
        },
        "id": "B52jaNKUrgui",
        "outputId": "58bd0082-5e2b-445b-8c80-4f411644bfa0"
      },
      "execution_count": 22,
      "outputs": [
        {
          "output_type": "execute_result",
          "data": {
            "text/plain": [
              "tensor([[[0.0000, 0.0000, 0.0000, 0.0157, 0.1098, 0.3216, 0.5373, 0.6275,\n",
              "          0.4510, 0.2235, 0.0667, 0.0078, 0.0000, 0.0000, 0.0000, 0.0000],\n",
              "         [0.0000, 0.0000, 0.0039, 0.0784, 0.3412, 0.6941, 0.8784, 0.8941,\n",
              "          0.7412, 0.5412, 0.2627, 0.0784, 0.0118, 0.0000, 0.0000, 0.0000],\n",
              "         [0.0000, 0.0000, 0.0353, 0.2275, 0.6196, 0.9059, 0.9765, 0.9020,\n",
              "          0.6941, 0.5843, 0.5059, 0.3020, 0.0941, 0.0118, 0.0000, 0.0000],\n",
              "         [0.0000, 0.0078, 0.1216, 0.4706, 0.8314, 0.9647, 0.9412, 0.7686,\n",
              "          0.4275, 0.3216, 0.5333, 0.5961, 0.3294, 0.1020, 0.0157, 0.0000],\n",
              "         [0.0000, 0.0314, 0.2471, 0.6941, 0.9412, 0.9373, 0.7647, 0.4902,\n",
              "          0.1804, 0.1137, 0.3686, 0.6784, 0.6510, 0.3490, 0.0902, 0.0078],\n",
              "         [0.0039, 0.0784, 0.3843, 0.8118, 0.9647, 0.8353, 0.4706, 0.1804,\n",
              "          0.0392, 0.0275, 0.1725, 0.5294, 0.8000, 0.6471, 0.2510, 0.0392],\n",
              "         [0.0078, 0.1333, 0.5216, 0.8784, 0.9333, 0.6824, 0.2549, 0.0431,\n",
              "          0.0039, 0.0039, 0.0667, 0.3490, 0.7765, 0.8078, 0.4314, 0.0980],\n",
              "         [0.0157, 0.2039, 0.6627, 0.9255, 0.8549, 0.4784, 0.1255, 0.0118,\n",
              "          0.0000, 0.0000, 0.0235, 0.2314, 0.6980, 0.8510, 0.5529, 0.1451],\n",
              "         [0.0471, 0.3020, 0.7608, 0.9451, 0.7765, 0.3255, 0.0549, 0.0000,\n",
              "          0.0000, 0.0000, 0.0235, 0.2314, 0.6941, 0.8549, 0.5608, 0.1490],\n",
              "         [0.1137, 0.4706, 0.8510, 0.9412, 0.7059, 0.2314, 0.0235, 0.0000,\n",
              "          0.0000, 0.0118, 0.0980, 0.3843, 0.7882, 0.8392, 0.4745, 0.1137],\n",
              "         [0.1451, 0.5490, 0.8902, 0.9255, 0.6392, 0.1843, 0.0118, 0.0039,\n",
              "          0.0118, 0.0784, 0.3098, 0.6588, 0.8980, 0.8039, 0.3725, 0.0745],\n",
              "         [0.1137, 0.4745, 0.8549, 0.9137, 0.6235, 0.1922, 0.0510, 0.0863,\n",
              "          0.1333, 0.2902, 0.6353, 0.8863, 0.9176, 0.6824, 0.2510, 0.0353],\n",
              "         [0.0549, 0.3176, 0.7608, 0.9216, 0.7412, 0.3961, 0.3020, 0.4078,\n",
              "          0.4980, 0.6471, 0.8667, 0.9333, 0.7804, 0.4275, 0.1176, 0.0118],\n",
              "         [0.0157, 0.1686, 0.5412, 0.8235, 0.8902, 0.8118, 0.7882, 0.8314,\n",
              "          0.8627, 0.8980, 0.9020, 0.7686, 0.4706, 0.1686, 0.0275, 0.0000],\n",
              "         [0.0000, 0.0471, 0.2235, 0.5020, 0.7647, 0.8941, 0.9373, 0.9176,\n",
              "          0.8824, 0.8275, 0.6667, 0.4157, 0.1647, 0.0314, 0.0000, 0.0000],\n",
              "         [0.0000, 0.0039, 0.0431, 0.1647, 0.3804, 0.5922, 0.6902, 0.6314,\n",
              "          0.5412, 0.4392, 0.2627, 0.1098, 0.0275, 0.0000, 0.0000, 0.0000]]])"
            ]
          },
          "metadata": {},
          "execution_count": 22
        }
      ]
    },
    {
      "cell_type": "code",
      "source": [
        "sample_tag"
      ],
      "metadata": {
        "colab": {
          "base_uri": "https://localhost:8080/"
        },
        "id": "GRwsycdtrgr7",
        "outputId": "adaced65-398f-4bdf-d449-5e767e5749f9"
      },
      "execution_count": 23,
      "outputs": [
        {
          "output_type": "execute_result",
          "data": {
            "text/plain": [
              "0"
            ]
          },
          "metadata": {},
          "execution_count": 23
        }
      ]
    },
    {
      "cell_type": "code",
      "source": [
        "plt.imshow(sample_image.reshape(16,16))"
      ],
      "metadata": {
        "colab": {
          "base_uri": "https://localhost:8080/",
          "height": 448
        },
        "id": "BxlOjIaa9WN_",
        "outputId": "73accfb1-49c2-416c-97c4-ca3c72405d70"
      },
      "execution_count": 24,
      "outputs": [
        {
          "output_type": "execute_result",
          "data": {
            "text/plain": [
              "<matplotlib.image.AxesImage at 0x7df8839ae4d0>"
            ]
          },
          "metadata": {},
          "execution_count": 24
        },
        {
          "output_type": "display_data",
          "data": {
            "text/plain": [
              "<Figure size 640x480 with 1 Axes>"
            ],
            "image/png": "[encoded data removed]"
          },
          "metadata": {}
        }
      ]
    },
    {
      "cell_type": "code",
      "source": [
        "Detector.eval()\n",
        "with torch.no_grad():\n",
        "  new_predict=Detector(test_data[1900][0].view(1,1,16,16))"
      ],
      "metadata": {
        "id": "T81PwwRJ9qty"
      },
      "execution_count": 25,
      "outputs": []
    },
    {
      "cell_type": "code",
      "source": [
        "new_predict"
      ],
      "metadata": {
        "colab": {
          "base_uri": "https://localhost:8080/"
        },
        "id": "nEaq5T2F9-eu",
        "outputId": "cdae4310-d786-4fbf-e545-0d0db73ed460"
      },
      "execution_count": 26,
      "outputs": [
        {
          "output_type": "execute_result",
          "data": {
            "text/plain": [
              "tensor([[  0.0000, -63.9894, -26.5928, -32.8529, -42.1398, -16.9808, -29.1398,\n",
              "         -24.5172, -26.6498, -36.6134]])"
            ]
          },
          "metadata": {},
          "execution_count": 26
        }
      ]
    },
    {
      "cell_type": "code",
      "source": [
        "new_predict.argmax()"
      ],
      "metadata": {
        "colab": {
          "base_uri": "https://localhost:8080/"
        },
        "id": "OP-m7ViP9_s-",
        "outputId": "8584c1d9-4872-4ce0-ad97-11371ce7f392"
      },
      "execution_count": 27,
      "outputs": [
        {
          "output_type": "execute_result",
          "data": {
            "text/plain": [
              "tensor(0)"
            ]
          },
          "metadata": {},
          "execution_count": 27
        }
      ]
    },
    {
      "cell_type": "markdown",
      "source": [
        "## Random Digit Testing - 2"
      ],
      "metadata": {
        "id": "SRLUyM-T_u91"
      }
    },
    {
      "cell_type": "code",
      "source": [
        "sample_image,sample_tag=test_data[500][0],test_data[500][1]\n",
        "plt.imshow(sample_image.reshape(16,16))\n",
        "Detector.eval()\n",
        "with torch.no_grad():\n",
        "  new_predict=Detector(sample_image.view(1,1,16,16))"
      ],
      "metadata": {
        "colab": {
          "base_uri": "https://localhost:8080/",
          "height": 430
        },
        "id": "IO_0HnwT-CMb",
        "outputId": "d44f14b9-b0a1-42b8-98e0-fada7a19c001"
      },
      "execution_count": 28,
      "outputs": [
        {
          "output_type": "display_data",
          "data": {
            "text/plain": [
              "<Figure size 640x480 with 1 Axes>"
            ],
            "image/png": "[encoded data removed]"
          },
          "metadata": {}
        }
      ]
    },
    {
      "cell_type": "code",
      "source": [
        "new_predict"
      ],
      "metadata": {
        "colab": {
          "base_uri": "https://localhost:8080/"
        },
        "id": "h9eRhBPIAAww",
        "outputId": "9bf2c615-6545-45d2-9a05-c49fbb718733"
      },
      "execution_count": 29,
      "outputs": [
        {
          "output_type": "execute_result",
          "data": {
            "text/plain": [
              "tensor([[-10.4715, -26.8522, -14.5545,  -0.0317, -14.7503,  -3.4689, -16.4054,\n",
              "         -14.9467,  -9.8583, -14.5740]])"
            ]
          },
          "metadata": {},
          "execution_count": 29
        }
      ]
    },
    {
      "cell_type": "code",
      "source": [
        "new_predict.argmax()"
      ],
      "metadata": {
        "colab": {
          "base_uri": "https://localhost:8080/"
        },
        "id": "Mu0ZFL00AGzl",
        "outputId": "3d92ea4e-9d5c-401f-e804-d0271dcfcdb8"
      },
      "execution_count": 30,
      "outputs": [
        {
          "output_type": "execute_result",
          "data": {
            "text/plain": [
              "tensor(3)"
            ]
          },
          "metadata": {},
          "execution_count": 30
        }
      ]
    },
    {
      "cell_type": "markdown",
      "source": [
        "## Accuracy on Overall Test Data"
      ],
      "metadata": {
        "id": "RzMoXUlqdUhq"
      }
    },
    {
      "cell_type": "code",
      "source": [
        "with torch.no_grad():\n",
        "  correct=0\n",
        "  for X_test,y_test in test_loader:\n",
        "    y_pred=Detector(X_test)\n",
        "    predicted=torch.max(y_pred,1)[1]\n",
        "    correct+=(predicted==y_test).sum()\n",
        "\n",
        "print(f\"Accuracy on Test Data: {correct.item()/len(test_data)}\")"
      ],
      "metadata": {
        "colab": {
          "base_uri": "https://localhost:8080/"
        },
        "id": "cC_MSzRiAI0U",
        "outputId": "38c31197-f2ec-4a3b-afed-82b2e841098d"
      },
      "execution_count": 31,
      "outputs": [
        {
          "output_type": "stream",
          "name": "stdout",
          "text": [
            "Accuracy on Test Data: 0.924265072247135\n"
          ]
        }
      ]
    }
  ]
}