{
  "nbformat": 4,
  "nbformat_minor": 0,
  "metadata": {
    "colab": {
      "provenance": [],
      "authorship_tag": "ABX9TyMOLCBELLaHVZf+idY96tt0",
      "include_colab_link": true
    },
    "kernelspec": {
      "name": "python3",
      "display_name": "Python 3"
    },
    "language_info": {
      "name": "python"
    }
  },
  "cells": [
    {
      "cell_type": "markdown",
      "metadata": {
        "id": "view-in-github",
        "colab_type": "text"
      },
      "source": [
        "<a href=\"https://colab.research.google.com/github/gautam-pai/Handwritten-Digit-Recognition/blob/main/Hand_Written_Number_Recognition.ipynb\" target=\"_parent\"><img src=\"https://colab.research.google.com/assets/colab-badge.svg\" alt=\"Open In Colab\"/></a>"
      ]
    },
    {
      "cell_type": "code",
      "execution_count": 1,
      "metadata": {
        "id": "SnW_4X8yb6Us"
      },
      "outputs": [],
      "source": [
        "import torch\n",
        "import torch.nn as nn\n",
        "import torch.nn.functional as F\n",
        "from torch.utils.data import DataLoader\n",
        "from torchvision import datasets, transforms\n",
        "\n",
        "\n",
        "\n",
        "import pandas as pd\n",
        "import numpy as np\n",
        "from sklearn.metrics import confusion_matrix\n",
        "import matplotlib.pyplot as plt\n",
        "%matplotlib inline"
      ]
    },
    {
      "cell_type": "markdown",
      "source": [
        "## Importing datasets"
      ],
      "metadata": {
        "id": "hjOmyCxqhoa1"
      }
    },
    {
      "cell_type": "code",
      "source": [
        "train_data=datasets.USPS(root='./usps_data_train',train=True,transform=transforms.ToTensor(),download=True)"
      ],
      "metadata": {
        "id": "Ycs-B7qYhCYs"
      },
      "execution_count": 2,
      "outputs": []
    },
    {
      "cell_type": "code",
      "source": [
        "test_data=datasets.USPS(root='./usps_data_test',train=False,transform=transforms.ToTensor(),download=True)"
      ],
      "metadata": {
        "id": "hmtYT5zgf05s"
      },
      "execution_count": 3,
      "outputs": []
    },
    {
      "cell_type": "code",
      "source": [
        "train_data"
      ],
      "metadata": {
        "colab": {
          "base_uri": "https://localhost:8080/"
        },
        "id": "pshAjUwxf2CO",
        "outputId": "2b77a436-2202-4a2e-a1da-889b96f12624"
      },
      "execution_count": 4,
      "outputs": [
        {
          "output_type": "execute_result",
          "data": {
            "text/plain": [
              "Dataset USPS\n",
              "    Number of datapoints: 7291\n",
              "    Root location: ./usps_data_train\n",
              "    StandardTransform\n",
              "Transform: ToTensor()"
            ]
          },
          "metadata": {},
          "execution_count": 4
        }
      ]
    },
    {
      "cell_type": "code",
      "source": [
        "test_data"
      ],
      "metadata": {
        "colab": {
          "base_uri": "https://localhost:8080/"
        },
        "id": "__4_dwLef1_Z",
        "outputId": "c765af9d-7cea-47fd-90eb-30baf179ff0c"
      },
      "execution_count": 5,
      "outputs": [
        {
          "output_type": "execute_result",
          "data": {
            "text/plain": [
              "Dataset USPS\n",
              "    Number of datapoints: 2007\n",
              "    Root location: ./usps_data_test\n",
              "    StandardTransform\n",
              "Transform: ToTensor()"
            ]
          },
          "metadata": {},
          "execution_count": 5
        }
      ]
    },
    {
      "cell_type": "code",
      "source": [
        "train_loader=DataLoader(dataset=train_data,batch_size=10,shuffle=True)\n",
        "test_loader=DataLoader(dataset=test_data,batch_size=10,shuffle=False)"
      ],
      "metadata": {
        "id": "O3_BKnuZf18B"
      },
      "execution_count": 6,
      "outputs": []
    },
    {
      "cell_type": "markdown",
      "source": [
        "## Data Exploration"
      ],
      "metadata": {
        "id": "IWKWAClSlxwF"
      }
    },
    {
      "cell_type": "code",
      "source": [
        "sample=train_data[100]\n",
        "sample"
      ],
      "metadata": {
        "colab": {
          "base_uri": "https://localhost:8080/"
        },
        "id": "p6pbKPyOf12x",
        "outputId": "d7cc8570-b97d-4219-d159-74cd32c8cd9a"
      },
      "execution_count": 7,
      "outputs": [
        {
          "output_type": "execute_result",
          "data": {
            "text/plain": [
              "(tensor([[[0.0000, 0.0039, 0.0510, 0.2000, 0.4431, 0.6392, 0.6941, 0.6824,\n",
              "           0.6196, 0.5020, 0.3529, 0.1922, 0.0588, 0.0039, 0.0000, 0.0000],\n",
              "          [0.0000, 0.0353, 0.2039, 0.5176, 0.7216, 0.7294, 0.6588, 0.6235,\n",
              "           0.6235, 0.6353, 0.6392, 0.5294, 0.2235, 0.0392, 0.0000, 0.0000],\n",
              "          [0.0039, 0.0941, 0.4039, 0.7020, 0.6118, 0.3569, 0.2157, 0.1843,\n",
              "           0.1961, 0.2588, 0.4588, 0.6431, 0.3765, 0.0824, 0.0039, 0.0000],\n",
              "          [0.0078, 0.1333, 0.5098, 0.6824, 0.3490, 0.0902, 0.0196, 0.0118,\n",
              "           0.0118, 0.0471, 0.2431, 0.4941, 0.3137, 0.0706, 0.0039, 0.0000],\n",
              "          [0.0078, 0.1255, 0.4863, 0.6392, 0.2667, 0.0353, 0.0000, 0.0000,\n",
              "           0.0000, 0.0157, 0.0980, 0.2118, 0.1608, 0.0549, 0.0078, 0.0000],\n",
              "          [0.0039, 0.0863, 0.3882, 0.6431, 0.3765, 0.0863, 0.0078, 0.0039,\n",
              "           0.0314, 0.1098, 0.2118, 0.3020, 0.3176, 0.1882, 0.0471, 0.0000],\n",
              "          [0.0000, 0.0353, 0.2314, 0.5608, 0.5490, 0.2392, 0.0627, 0.0824,\n",
              "           0.2196, 0.4353, 0.6118, 0.6627, 0.5922, 0.3490, 0.0902, 0.0039],\n",
              "          [0.0000, 0.0078, 0.0824, 0.3216, 0.5647, 0.4980, 0.3059, 0.3765,\n",
              "           0.5922, 0.7059, 0.6745, 0.5373, 0.3725, 0.1804, 0.0392, 0.0000],\n",
              "          [0.0000, 0.0000, 0.0157, 0.1137, 0.3843, 0.6549, 0.6980, 0.7412,\n",
              "           0.7020, 0.5216, 0.3098, 0.1647, 0.0824, 0.0314, 0.0039, 0.0000],\n",
              "          [0.0000, 0.0000, 0.0078, 0.0824, 0.3373, 0.6784, 0.8235, 0.7843,\n",
              "           0.4902, 0.2039, 0.0627, 0.0157, 0.0039, 0.0000, 0.0000, 0.0000],\n",
              "          [0.0000, 0.0000, 0.0549, 0.2588, 0.5647, 0.6824, 0.6275, 0.6314,\n",
              "           0.4784, 0.2157, 0.0510, 0.0039, 0.0000, 0.0000, 0.0000, 0.0000],\n",
              "          [0.0000, 0.0118, 0.1569, 0.5216, 0.6745, 0.4549, 0.2510, 0.3373,\n",
              "           0.5373, 0.4784, 0.2078, 0.0392, 0.0000, 0.0000, 0.0000, 0.0000],\n",
              "          [0.0000, 0.0275, 0.2431, 0.6392, 0.5765, 0.2314, 0.0627, 0.1216,\n",
              "           0.3843, 0.6235, 0.4667, 0.1333, 0.0078, 0.0000, 0.0000, 0.0000],\n",
              "          [0.0000, 0.0275, 0.2196, 0.5647, 0.5529, 0.3176, 0.1961, 0.2000,\n",
              "           0.3529, 0.6510, 0.6353, 0.2196, 0.0196, 0.0000, 0.0000, 0.0000],\n",
              "          [0.0000, 0.0078, 0.0902, 0.3059, 0.5137, 0.5765, 0.5686, 0.5922,\n",
              "           0.6627, 0.7647, 0.6392, 0.2196, 0.0235, 0.0000, 0.0000, 0.0000],\n",
              "          [0.0000, 0.0000, 0.0118, 0.0784, 0.2118, 0.3765, 0.5176, 0.6196,\n",
              "           0.6667, 0.6118, 0.3882, 0.1137, 0.0078, 0.0000, 0.0000, 0.0000]]]),\n",
              " 8)"
            ]
          },
          "metadata": {},
          "execution_count": 7
        }
      ]
    },
    {
      "cell_type": "code",
      "source": [
        "sample_image,sample_tag=sample[0],sample[1]"
      ],
      "metadata": {
        "id": "ZLPotPkaf1zy"
      },
      "execution_count": 8,
      "outputs": []
    },
    {
      "cell_type": "code",
      "source": [
        "sample_image.shape"
      ],
      "metadata": {
        "colab": {
          "base_uri": "https://localhost:8080/"
        },
        "id": "XCgCr0FDmDOL",
        "outputId": "b93d6be4-a060-42ad-d34c-87e1ab93c1b8"
      },
      "execution_count": 9,
      "outputs": [
        {
          "output_type": "execute_result",
          "data": {
            "text/plain": [
              "torch.Size([1, 16, 16])"
            ]
          },
          "metadata": {},
          "execution_count": 9
        }
      ]
    },
    {
      "cell_type": "code",
      "source": [
        "plt.imshow(sample_image.reshape(16,16))\n",
        "plt.title(f'Tag for the image is {sample_tag}')"
      ],
      "metadata": {
        "colab": {
          "base_uri": "https://localhost:8080/",
          "height": 470
        },
        "id": "5oO1D6srmGHT",
        "outputId": "13b23b85-8d01-49fe-a1da-c4da21db8a85"
      },
      "execution_count": 10,
      "outputs": [
        {
          "output_type": "execute_result",
          "data": {
            "text/plain": [
              "Text(0.5, 1.0, 'Tag for the image is 8')"
            ]
          },
          "metadata": {},
          "execution_count": 10
        },
        {
          "output_type": "display_data",
          "data": {
            "text/plain": [
              "<Figure size 640x480 with 1 Axes>"
            ],
            "image/png": "[encoded data removed]"
          },
          "metadata": {}
        }
      ]
    },
    {
      "cell_type": "markdown",
      "source": [
        "## Neural Network Model"
      ],
      "metadata": {
        "id": "pomvVYQgmeSI"
      }
    },
    {
      "cell_type": "code",
      "source": [
        "class NumberDetector(nn.Module):\n",
        "  def __init__(self):\n",
        "    super().__init__()\n",
        "    ## Convolutional Layers - The first in_channel is so that 1 image in 1 channel is passed, The remaining 10,20,30 are arbitrarily chosen\n",
        "    self.conv1=nn.Conv2d(in_channels=1,out_channels=10,kernel_size=3,stride=1)\n",
        "    self.conv2=nn.Conv2d(in_channels=10,out_channels=20,kernel_size=3,stride=1)\n",
        "    self.conv3=nn.Conv2d(in_channels=20,out_channels=30,kernel_size=3,stride=1)\n",
        "\n",
        "    ## Fully Connected Layers\n",
        "    self.fc1=nn.Linear(30*10*10,out_features=100) # Since the output of Convolution will be a 10*10 image across 30 channels in-features will be 30*10*10.  The out features is also arbitrarily chosen.\n",
        "    self.fc2=nn.Linear(100,50) # The output of previous linear layer is 100, so input here will be 100. And output we've arbitrarily chosen as 50\n",
        "    self.fc3=nn.Linear(50,10) # we want the final output to be 10, because there are 10 digits possible.\n",
        "\n",
        "  def forward(self,X):\n",
        "    # First convolution and relu activation\n",
        "    X=F.relu(self.conv1(X))\n",
        "    # Second Convolution and relu activation\n",
        "    X=F.relu(self.conv2(X))\n",
        "    # Third Convolution and relu activation\n",
        "    X=F.relu(self.conv3(X))\n",
        "\n",
        "    ## Flattening\n",
        "    X=X.view(-1,30*10*10)\n",
        "\n",
        "    # ANN Layers/ Neural Networks\n",
        "    X=F.relu(self.fc1(X))\n",
        "    X=F.relu(self.fc2(X))\n",
        "    X=self.fc3(X)\n",
        "\n",
        "    return F.log_softmax(X,dim=1)\n",
        "\n"
      ],
      "metadata": {
        "id": "22ezPDS0mM80"
      },
      "execution_count": 11,
      "outputs": []
    },
    {
      "cell_type": "code",
      "source": [
        "Detector=NumberDetector()"
      ],
      "metadata": {
        "id": "g6NGccJaruIZ"
      },
      "execution_count": 12,
      "outputs": []
    },
    {
      "cell_type": "code",
      "source": [
        "Detector"
      ],
      "metadata": {
        "colab": {
          "base_uri": "https://localhost:8080/"
        },
        "id": "BilWfQOJruAO",
        "outputId": "8ae9c128-3dec-41d0-eb40-d75d5a573878"
      },
      "execution_count": 13,
      "outputs": [
        {
          "output_type": "execute_result",
          "data": {
            "text/plain": [
              "NumberDetector(\n",
              "  (conv1): Conv2d(1, 10, kernel_size=(3, 3), stride=(1, 1))\n",
              "  (conv2): Conv2d(10, 20, kernel_size=(3, 3), stride=(1, 1))\n",
              "  (conv3): Conv2d(20, 30, kernel_size=(3, 3), stride=(1, 1))\n",
              "  (fc1): Linear(in_features=3000, out_features=100, bias=True)\n",
              "  (fc2): Linear(in_features=100, out_features=50, bias=True)\n",
              "  (fc3): Linear(in_features=50, out_features=10, bias=True)\n",
              ")"
            ]
          },
          "metadata": {},
          "execution_count": 13
        }
      ]
    },
    {
      "cell_type": "markdown",
      "source": [
        "## Loss Function Optimizer"
      ],
      "metadata": {
        "id": "-HEsnFrMy1qU"
      }
    },
    {
      "cell_type": "code",
      "source": [
        "criterion=nn.CrossEntropyLoss()\n",
        "optimizer=torch.optim.Adam(Detector.parameters(),lr=0.01)"
      ],
      "metadata": {
        "id": "OYQhndmrrt9q"
      },
      "execution_count": 14,
      "outputs": []
    },
    {
      "cell_type": "markdown",
      "source": [
        "## Training the model"
      ],
      "metadata": {
        "id": "4X2uu8yQzd-F"
      }
    },
    {
      "cell_type": "code",
      "source": [
        "import time\n",
        "start_time=time.time()\n",
        "epochs=10\n",
        "train_losses=[]\n",
        "test_losses=[]\n",
        "train_correct=[]\n",
        "test_correct=[]\n",
        "\n",
        "\n",
        "for i in range(epochs):\n",
        "  trn_corr=0\n",
        "  tst_corr=0\n",
        "  ## Train Data\n",
        "  for b,(X_Train,y_train) in enumerate(train_loader):\n",
        "    b+=1\n",
        "    y_pred=Detector(X_Train)\n",
        "    loss=criterion(y_pred,y_train)\n",
        "\n",
        "    predicted=torch.max(y_pred.data,1)[1]\n",
        "    batch_corr=(predicted==y_train).sum()\n",
        "    trn_corr+=batch_corr\n",
        "\n",
        "    ## Optimization of weights\n",
        "    optimizer.zero_grad()\n",
        "    loss.backward()\n",
        "    optimizer.step()\n",
        "\n",
        "    # Printing the loss % after certain number of data has been used to train\n",
        "    if b%100==0:\n",
        "      print(f'Epoch: {i}  Batch: {b}  Loss:{loss.item()}')\n",
        "\n",
        "  train_losses.append(loss)\n",
        "  train_correct.append(trn_corr)\n",
        "\n",
        "    ## Testing\n",
        "  with torch.no_grad():\n",
        "    for b,(X_test,y_test) in enumerate(test_loader):\n",
        "      y_val=Detector(X_test)\n",
        "      predicted=torch.max(y_val.data,1)[1]\n",
        "      tst_corr+=(predicted==y_test).sum()\n",
        "\n",
        "  loss=criterion(y_val,y_test)\n",
        "  test_losses.append(loss)\n",
        "  test_correct.append(tst_corr)\n",
        "\n",
        "current_time=time.time()\n",
        "print(f'Total time taken to finish the training = {(current_time-start_time)/60 } mins')"
      ],
      "metadata": {
        "colab": {
          "base_uri": "https://localhost:8080/"
        },
        "id": "yo2XxAvUrt6B",
        "outputId": "b4f47a26-62dd-4681-bde2-34cf2bdee0fb"
      },
      "execution_count": 15,
      "outputs": [
        {
          "output_type": "stream",
          "name": "stdout",
          "text": [
            "Epoch: 0  Batch: 100  Loss:0.38786306977272034\n",
            "Epoch: 0  Batch: 200  Loss:0.0828697457909584\n",
            "Epoch: 0  Batch: 300  Loss:0.12129299342632294\n",
            "Epoch: 0  Batch: 400  Loss:0.17492346465587616\n",
            "Epoch: 0  Batch: 500  Loss:0.12109380960464478\n",
            "Epoch: 0  Batch: 600  Loss:0.9311702847480774\n",
            "Epoch: 0  Batch: 700  Loss:0.2927468419075012\n",
            "Epoch: 1  Batch: 100  Loss:0.45130640268325806\n",
            "Epoch: 1  Batch: 200  Loss:0.14682558178901672\n",
            "Epoch: 1  Batch: 300  Loss:0.019609767943620682\n",
            "Epoch: 1  Batch: 400  Loss:0.012339687906205654\n",
            "Epoch: 1  Batch: 500  Loss:0.008576289750635624\n",
            "Epoch: 1  Batch: 600  Loss:0.00021882021974306554\n",
            "Epoch: 1  Batch: 700  Loss:0.027331341058015823\n",
            "Epoch: 2  Batch: 100  Loss:1.704598069190979\n",
            "Epoch: 2  Batch: 200  Loss:0.08355977386236191\n",
            "Epoch: 2  Batch: 300  Loss:0.014341223053634167\n",
            "Epoch: 2  Batch: 400  Loss:0.20232000946998596\n",
            "Epoch: 2  Batch: 500  Loss:0.1367793083190918\n",
            "Epoch: 2  Batch: 600  Loss:0.02791321650147438\n",
            "Epoch: 2  Batch: 700  Loss:0.055565185844898224\n",
            "Epoch: 3  Batch: 100  Loss:0.0008940711850300431\n",
            "Epoch: 3  Batch: 200  Loss:0.2855677008628845\n",
            "Epoch: 3  Batch: 300  Loss:0.39571958780288696\n",
            "Epoch: 3  Batch: 400  Loss:1.181943416595459\n",
            "Epoch: 3  Batch: 500  Loss:0.2323339730501175\n",
            "Epoch: 3  Batch: 600  Loss:0.1815330684185028\n",
            "Epoch: 3  Batch: 700  Loss:0.0008003056282177567\n",
            "Epoch: 4  Batch: 100  Loss:0.022347789257764816\n",
            "Epoch: 4  Batch: 200  Loss:0.052093617618083954\n",
            "Epoch: 4  Batch: 300  Loss:0.10131333023309708\n",
            "Epoch: 4  Batch: 400  Loss:0.05339304357767105\n",
            "Epoch: 4  Batch: 500  Loss:0.09811161458492279\n",
            "Epoch: 4  Batch: 600  Loss:0.018140941858291626\n",
            "Epoch: 4  Batch: 700  Loss:0.0012519493466243148\n",
            "Epoch: 5  Batch: 100  Loss:0.003946660552173853\n",
            "Epoch: 5  Batch: 200  Loss:0.0002636831486597657\n",
            "Epoch: 5  Batch: 300  Loss:2.125324317603372e-05\n",
            "Epoch: 5  Batch: 400  Loss:0.412736713886261\n",
            "Epoch: 5  Batch: 500  Loss:0.37399834394454956\n",
            "Epoch: 5  Batch: 600  Loss:0.7061495184898376\n",
            "Epoch: 5  Batch: 700  Loss:0.0011342240031808615\n",
            "Epoch: 6  Batch: 100  Loss:0.017857201397418976\n",
            "Epoch: 6  Batch: 200  Loss:0.08289212733507156\n",
            "Epoch: 6  Batch: 300  Loss:0.007517003454267979\n",
            "Epoch: 6  Batch: 400  Loss:0.00023994997900445014\n",
            "Epoch: 6  Batch: 500  Loss:0.008017889223992825\n",
            "Epoch: 6  Batch: 600  Loss:0.3565220236778259\n",
            "Epoch: 6  Batch: 700  Loss:1.4156525135040283\n",
            "Epoch: 7  Batch: 100  Loss:0.3322596251964569\n",
            "Epoch: 7  Batch: 200  Loss:0.03425933048129082\n",
            "Epoch: 7  Batch: 300  Loss:0.01592242158949375\n",
            "Epoch: 7  Batch: 400  Loss:0.0010677811224013567\n",
            "Epoch: 7  Batch: 500  Loss:0.0002789194113574922\n",
            "Epoch: 7  Batch: 600  Loss:0.02660396136343479\n",
            "Epoch: 7  Batch: 700  Loss:4.196104782749899e-06\n",
            "Epoch: 8  Batch: 100  Loss:0.15435762703418732\n",
            "Epoch: 8  Batch: 200  Loss:0.15021640062332153\n",
            "Epoch: 8  Batch: 300  Loss:0.2588350176811218\n",
            "Epoch: 8  Batch: 400  Loss:0.2313617467880249\n",
            "Epoch: 8  Batch: 500  Loss:0.4384332299232483\n",
            "Epoch: 8  Batch: 600  Loss:0.11860619485378265\n",
            "Epoch: 8  Batch: 700  Loss:0.0005550335044972599\n",
            "Epoch: 9  Batch: 100  Loss:0.23232607543468475\n",
            "Epoch: 9  Batch: 200  Loss:0.004667256958782673\n",
            "Epoch: 9  Batch: 300  Loss:0.0001139232626883313\n",
            "Epoch: 9  Batch: 400  Loss:0.001662414870224893\n",
            "Epoch: 9  Batch: 500  Loss:0.0003692233585752547\n",
            "Epoch: 9  Batch: 600  Loss:0.015370259992778301\n",
            "Epoch: 9  Batch: 700  Loss:0.008075574412941933\n",
            "Total time taken to finish the training = 2.020039165019989 mins\n"
          ]
        }
      ]
    },
    {
      "cell_type": "markdown",
      "source": [
        "## Loss Visualization"
      ],
      "metadata": {
        "id": "2ZKB81KCUeDE"
      }
    },
    {
      "cell_type": "code",
      "source": [
        "train_losses= [tl.item() for tl in train_losses]\n",
        "\n",
        "plt.plot(train_losses,label=\"Training loss\")\n",
        "plt.plot(test_losses,label=\"Testing loss\")\n",
        "plt.title(\"Loss at Epoch\")\n",
        "plt.legend()"
      ],
      "metadata": {
        "id": "U5LDDcc4Udnp",
        "outputId": "4a4069f0-593f-4c6b-d084-79c7da27d559",
        "colab": {
          "base_uri": "https://localhost:8080/",
          "height": 470
        }
      },
      "execution_count": 16,
      "outputs": [
        {
          "output_type": "execute_result",
          "data": {
            "text/plain": [
              "<matplotlib.legend.Legend at 0x7a6bae8a0750>"
            ]
          },
          "metadata": {},
          "execution_count": 16
        },
        {
          "output_type": "display_data",
          "data": {
            "text/plain": [
              "<Figure size 640x480 with 1 Axes>"
            ],
            "image/png": "[encoded data removed]"
          },
          "metadata": {}
        }
      ]
    },
    {
      "cell_type": "code",
      "source": [
        "# Accuracy at the end of each epoch\n",
        "\n",
        "plt.plot([t/72.91 for t in train_correct],label=\"Training Accuracy\")\n",
        "plt.plot([t/20.07 for t in test_correct],label=\"Validation Accuracy\")\n",
        "plt.title(\"Accuracy at the end of each epoch\")\n",
        "plt.legend()"
      ],
      "metadata": {
        "id": "vteqqg0KUn9m",
        "outputId": "31a2b546-cd02-4411-deb4-6b2dde2fb163",
        "colab": {
          "base_uri": "https://localhost:8080/",
          "height": 470
        }
      },
      "execution_count": 17,
      "outputs": [
        {
          "output_type": "execute_result",
          "data": {
            "text/plain": [
              "<matplotlib.legend.Legend at 0x7a6bae8da250>"
            ]
          },
          "metadata": {},
          "execution_count": 17
        },
        {
          "output_type": "display_data",
          "data": {
            "text/plain": [
              "<Figure size 640x480 with 1 Axes>"
            ],
            "image/png": "[encoded data removed]"
          },
          "metadata": {}
        }
      ]
    },
    {
      "cell_type": "markdown",
      "source": [
        "## Accuracy with Testing Data"
      ],
      "metadata": {
        "id": "go87WIZa8SCC"
      }
    },
    {
      "cell_type": "code",
      "source": [
        "with torch.no_grad():\n",
        "  correct=0\n",
        "  for X_test,y_test in test_loader:\n",
        "    y_val=Detector(X_test)\n",
        "    predicted=torch.max(y_val,1)[1]\n",
        "    correct+=(predicted==y_test).sum()\n",
        "print(f\"{(correct.item()/len(test_data))*100} %\")"
      ],
      "metadata": {
        "colab": {
          "base_uri": "https://localhost:8080/"
        },
        "id": "58Kp7fh4rg2A",
        "outputId": "e49f1f9e-be82-4fca-ba86-807ef3377a13"
      },
      "execution_count": 18,
      "outputs": [
        {
          "output_type": "stream",
          "name": "stdout",
          "text": [
            "90.9317389138017 %\n"
          ]
        }
      ]
    },
    {
      "cell_type": "markdown",
      "source": [
        "## Random Digit Test"
      ],
      "metadata": {
        "id": "yvZuH_oV8uBX"
      }
    },
    {
      "cell_type": "code",
      "source": [
        "test_data"
      ],
      "metadata": {
        "colab": {
          "base_uri": "https://localhost:8080/"
        },
        "id": "Qr9_vP5Wrgzm",
        "outputId": "69f52dcc-5bc5-4621-c5a9-87695dd437f8"
      },
      "execution_count": 19,
      "outputs": [
        {
          "output_type": "execute_result",
          "data": {
            "text/plain": [
              "Dataset USPS\n",
              "    Number of datapoints: 2007\n",
              "    Root location: ./usps_data_test\n",
              "    StandardTransform\n",
              "Transform: ToTensor()"
            ]
          },
          "metadata": {},
          "execution_count": 19
        }
      ]
    },
    {
      "cell_type": "code",
      "source": [
        "sample_image,sample_tag=test_data[1900][0],test_data[1900][1]"
      ],
      "metadata": {
        "id": "xaysbE9Qrgxa"
      },
      "execution_count": 20,
      "outputs": []
    },
    {
      "cell_type": "code",
      "source": [
        "sample_image"
      ],
      "metadata": {
        "colab": {
          "base_uri": "https://localhost:8080/"
        },
        "id": "B52jaNKUrgui",
        "outputId": "d2f5e2d7-8b19-4a4a-f97d-2b4bb92e1361"
      },
      "execution_count": 21,
      "outputs": [
        {
          "output_type": "execute_result",
          "data": {
            "text/plain": [
              "tensor([[[0.0000, 0.0000, 0.0000, 0.0157, 0.1098, 0.3216, 0.5373, 0.6275,\n",
              "          0.4510, 0.2235, 0.0667, 0.0078, 0.0000, 0.0000, 0.0000, 0.0000],\n",
              "         [0.0000, 0.0000, 0.0039, 0.0784, 0.3412, 0.6941, 0.8784, 0.8941,\n",
              "          0.7412, 0.5412, 0.2627, 0.0784, 0.0118, 0.0000, 0.0000, 0.0000],\n",
              "         [0.0000, 0.0000, 0.0353, 0.2275, 0.6196, 0.9059, 0.9765, 0.9020,\n",
              "          0.6941, 0.5843, 0.5059, 0.3020, 0.0941, 0.0118, 0.0000, 0.0000],\n",
              "         [0.0000, 0.0078, 0.1216, 0.4706, 0.8314, 0.9647, 0.9412, 0.7686,\n",
              "          0.4275, 0.3216, 0.5333, 0.5961, 0.3294, 0.1020, 0.0157, 0.0000],\n",
              "         [0.0000, 0.0314, 0.2471, 0.6941, 0.9412, 0.9373, 0.7647, 0.4902,\n",
              "          0.1804, 0.1137, 0.3686, 0.6784, 0.6510, 0.3490, 0.0902, 0.0078],\n",
              "         [0.0039, 0.0784, 0.3843, 0.8118, 0.9647, 0.8353, 0.4706, 0.1804,\n",
              "          0.0392, 0.0275, 0.1725, 0.5294, 0.8000, 0.6471, 0.2510, 0.0392],\n",
              "         [0.0078, 0.1333, 0.5216, 0.8784, 0.9333, 0.6824, 0.2549, 0.0431,\n",
              "          0.0039, 0.0039, 0.0667, 0.3490, 0.7765, 0.8078, 0.4314, 0.0980],\n",
              "         [0.0157, 0.2039, 0.6627, 0.9255, 0.8549, 0.4784, 0.1255, 0.0118,\n",
              "          0.0000, 0.0000, 0.0235, 0.2314, 0.6980, 0.8510, 0.5529, 0.1451],\n",
              "         [0.0471, 0.3020, 0.7608, 0.9451, 0.7765, 0.3255, 0.0549, 0.0000,\n",
              "          0.0000, 0.0000, 0.0235, 0.2314, 0.6941, 0.8549, 0.5608, 0.1490],\n",
              "         [0.1137, 0.4706, 0.8510, 0.9412, 0.7059, 0.2314, 0.0235, 0.0000,\n",
              "          0.0000, 0.0118, 0.0980, 0.3843, 0.7882, 0.8392, 0.4745, 0.1137],\n",
              "         [0.1451, 0.5490, 0.8902, 0.9255, 0.6392, 0.1843, 0.0118, 0.0039,\n",
              "          0.0118, 0.0784, 0.3098, 0.6588, 0.8980, 0.8039, 0.3725, 0.0745],\n",
              "         [0.1137, 0.4745, 0.8549, 0.9137, 0.6235, 0.1922, 0.0510, 0.0863,\n",
              "          0.1333, 0.2902, 0.6353, 0.8863, 0.9176, 0.6824, 0.2510, 0.0353],\n",
              "         [0.0549, 0.3176, 0.7608, 0.9216, 0.7412, 0.3961, 0.3020, 0.4078,\n",
              "          0.4980, 0.6471, 0.8667, 0.9333, 0.7804, 0.4275, 0.1176, 0.0118],\n",
              "         [0.0157, 0.1686, 0.5412, 0.8235, 0.8902, 0.8118, 0.7882, 0.8314,\n",
              "          0.8627, 0.8980, 0.9020, 0.7686, 0.4706, 0.1686, 0.0275, 0.0000],\n",
              "         [0.0000, 0.0471, 0.2235, 0.5020, 0.7647, 0.8941, 0.9373, 0.9176,\n",
              "          0.8824, 0.8275, 0.6667, 0.4157, 0.1647, 0.0314, 0.0000, 0.0000],\n",
              "         [0.0000, 0.0039, 0.0431, 0.1647, 0.3804, 0.5922, 0.6902, 0.6314,\n",
              "          0.5412, 0.4392, 0.2627, 0.1098, 0.0275, 0.0000, 0.0000, 0.0000]]])"
            ]
          },
          "metadata": {},
          "execution_count": 21
        }
      ]
    },
    {
      "cell_type": "code",
      "source": [
        "sample_tag"
      ],
      "metadata": {
        "colab": {
          "base_uri": "https://localhost:8080/"
        },
        "id": "GRwsycdtrgr7",
        "outputId": "b343ccaa-603a-4d2c-a42a-32097d5335fe"
      },
      "execution_count": 22,
      "outputs": [
        {
          "output_type": "execute_result",
          "data": {
            "text/plain": [
              "0"
            ]
          },
          "metadata": {},
          "execution_count": 22
        }
      ]
    },
    {
      "cell_type": "code",
      "source": [
        "plt.imshow(sample_image.reshape(16,16))"
      ],
      "metadata": {
        "colab": {
          "base_uri": "https://localhost:8080/",
          "height": 448
        },
        "id": "BxlOjIaa9WN_",
        "outputId": "744c435f-04ef-4902-8f66-a1aba9255643"
      },
      "execution_count": 23,
      "outputs": [
        {
          "output_type": "execute_result",
          "data": {
            "text/plain": [
              "<matplotlib.image.AxesImage at 0x7a6bae727810>"
            ]
          },
          "metadata": {},
          "execution_count": 23
        },
        {
          "output_type": "display_data",
          "data": {
            "text/plain": [
              "<Figure size 640x480 with 1 Axes>"
            ],
            "image/png": "[encoded data removed]"
          },
          "metadata": {}
        }
      ]
    },
    {
      "cell_type": "code",
      "source": [
        "Detector.eval()\n",
        "with torch.no_grad():\n",
        "  new_predict=Detector(test_data[1900][0].view(1,1,16,16))"
      ],
      "metadata": {
        "id": "T81PwwRJ9qty"
      },
      "execution_count": 24,
      "outputs": []
    },
    {
      "cell_type": "code",
      "source": [
        "new_predict"
      ],
      "metadata": {
        "colab": {
          "base_uri": "https://localhost:8080/"
        },
        "id": "nEaq5T2F9-eu",
        "outputId": "22540aac-044b-4ada-9cf4-14fe69848409"
      },
      "execution_count": 25,
      "outputs": [
        {
          "output_type": "execute_result",
          "data": {
            "text/plain": [
              "tensor([[   0.0000, -107.4791,  -29.2579,  -30.0010,  -43.0733,  -21.5747,\n",
              "          -24.8737,  -24.1743,  -44.4631,  -51.8960]])"
            ]
          },
          "metadata": {},
          "execution_count": 25
        }
      ]
    },
    {
      "cell_type": "code",
      "source": [
        "new_predict.argmax()"
      ],
      "metadata": {
        "colab": {
          "base_uri": "https://localhost:8080/"
        },
        "id": "OP-m7ViP9_s-",
        "outputId": "c5fb6d18-529d-434d-fe10-2486c5f998fc"
      },
      "execution_count": 26,
      "outputs": [
        {
          "output_type": "execute_result",
          "data": {
            "text/plain": [
              "tensor(0)"
            ]
          },
          "metadata": {},
          "execution_count": 26
        }
      ]
    },
    {
      "cell_type": "markdown",
      "source": [
        "## Random Digit Testing - 2"
      ],
      "metadata": {
        "id": "SRLUyM-T_u91"
      }
    },
    {
      "cell_type": "code",
      "source": [
        "sample_image,sample_tag=test_data[500][0],test_data[500][1]\n",
        "plt.imshow(sample_image.reshape(16,16))\n",
        "Detector.eval()\n",
        "with torch.no_grad():\n",
        "  new_predict=Detector(sample_image.view(1,1,16,16))"
      ],
      "metadata": {
        "colab": {
          "base_uri": "https://localhost:8080/",
          "height": 430
        },
        "id": "IO_0HnwT-CMb",
        "outputId": "a9fc2960-bd73-4280-a0ed-d75d36016b56"
      },
      "execution_count": 27,
      "outputs": [
        {
          "output_type": "display_data",
          "data": {
            "text/plain": [
              "<Figure size 640x480 with 1 Axes>"
            ],
            "image/png": "[encoded data removed]"
          },
          "metadata": {}
        }
      ]
    },
    {
      "cell_type": "code",
      "source": [
        "new_predict"
      ],
      "metadata": {
        "colab": {
          "base_uri": "https://localhost:8080/"
        },
        "id": "h9eRhBPIAAww",
        "outputId": "de8e691e-c618-48cd-d82e-b05251352ed3"
      },
      "execution_count": 28,
      "outputs": [
        {
          "output_type": "execute_result",
          "data": {
            "text/plain": [
              "tensor([[-1.2692e+01, -3.0519e+01, -1.1143e+01, -8.1770e-03, -1.8249e+01,\n",
              "         -4.8146e+00, -2.4667e+01, -1.1104e+01, -1.4585e+01, -1.6406e+01]])"
            ]
          },
          "metadata": {},
          "execution_count": 28
        }
      ]
    },
    {
      "cell_type": "code",
      "source": [
        "new_predict.argmax()"
      ],
      "metadata": {
        "colab": {
          "base_uri": "https://localhost:8080/"
        },
        "id": "Mu0ZFL00AGzl",
        "outputId": "0f9532a5-b0de-4b15-afc3-2e13eef78bd2"
      },
      "execution_count": 29,
      "outputs": [
        {
          "output_type": "execute_result",
          "data": {
            "text/plain": [
              "tensor(3)"
            ]
          },
          "metadata": {},
          "execution_count": 29
        }
      ]
    },
    {
      "cell_type": "markdown",
      "source": [
        "## Accuracy on Overall Test Data"
      ],
      "metadata": {
        "id": "RzMoXUlqdUhq"
      }
    },
    {
      "cell_type": "code",
      "source": [
        "with torch.no_grad():\n",
        "  correct=0\n",
        "  for X_test,y_test in test_loader:\n",
        "    y_pred=Detector(X_test)\n",
        "    predicted=torch.max(y_pred,1)[1]\n",
        "    correct+=(predicted==y_test).sum()\n",
        "\n",
        "print(f\"Accuracy on Test Data: {correct.item()/len(test_data)}\")"
      ],
      "metadata": {
        "colab": {
          "base_uri": "https://localhost:8080/"
        },
        "id": "cC_MSzRiAI0U",
        "outputId": "2a85b209-a069-4aad-ec53-9fa9a5204908"
      },
      "execution_count": 30,
      "outputs": [
        {
          "output_type": "stream",
          "name": "stdout",
          "text": [
            "Accuracy on Test Data: 0.909317389138017\n"
          ]
        }
      ]
    },
    {
      "cell_type": "code",
      "source": [],
      "metadata": {
        "id": "FMTr-h-hf7p6"
      },
      "execution_count": 30,
      "outputs": []
    }
  ]
}