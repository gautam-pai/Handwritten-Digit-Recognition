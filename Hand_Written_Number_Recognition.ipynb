{
  "nbformat": 4,
  "nbformat_minor": 0,
  "metadata": {
    "colab": {
      "provenance": [],
      "gpuType": "T4",
      "authorship_tag": "ABX9TyM0d646anVmv85yzIjXfmdk",
      "include_colab_link": true
    },
    "kernelspec": {
      "name": "python3",
      "display_name": "Python 3"
    },
    "language_info": {
      "name": "python"
    },
    "accelerator": "GPU"
  },
  "cells": [
    {
      "cell_type": "markdown",
      "metadata": {
        "id": "view-in-github",
        "colab_type": "text"
      },
      "source": [
        "<a href=\"https://colab.research.google.com/github/gautam-pai/Handwritten-Text-Recognition/blob/main/Hand_Written_Number_Recognition.ipynb\" target=\"_parent\"><img src=\"https://colab.research.google.com/assets/colab-badge.svg\" alt=\"Open In Colab\"/></a>"
      ]
    },
    {
      "cell_type": "code",
      "execution_count": 3,
      "metadata": {
        "id": "SnW_4X8yb6Us"
      },
      "outputs": [],
      "source": [
        "import torch\n",
        "import torch.nn as nn\n",
        "import torch.nn.functional as F\n",
        "from torch.utils.data import DataLoader\n",
        "from torchvision import datasets, transforms\n",
        "\n",
        "\n",
        "\n",
        "import pandas as pd\n",
        "import numpy as np\n",
        "from sklearn.metrics import confusion_matrix\n",
        "import matplotlib.pyplot as plt\n",
        "%matplotlib inline"
      ]
    },
    {
      "cell_type": "code",
      "source": [
        "#import torch\n",
        "#torch.cuda.is_available()"
      ],
      "metadata": {
        "id": "H9J3PfTL31-m"
      },
      "execution_count": 4,
      "outputs": []
    },
    {
      "cell_type": "markdown",
      "source": [
        "## Importing datasets"
      ],
      "metadata": {
        "id": "hjOmyCxqhoa1"
      }
    },
    {
      "cell_type": "code",
      "source": [
        "train_data=datasets.USPS(root='./usps_data_train',train=True,transform=transforms.ToTensor(),download=True)"
      ],
      "metadata": {
        "colab": {
          "base_uri": "https://localhost:8080/"
        },
        "id": "Ycs-B7qYhCYs",
        "outputId": "80ef880c-0a92-464b-bb4b-795917aef6f0"
      },
      "execution_count": 5,
      "outputs": [
        {
          "output_type": "stream",
          "name": "stdout",
          "text": [
            "Downloading https://www.csie.ntu.edu.tw/~cjlin/libsvmtools/datasets/multiclass/usps.bz2 to ./usps_data_train/usps.bz2\n"
          ]
        },
        {
          "output_type": "stream",
          "name": "stderr",
          "text": [
            "100%|██████████| 6.58M/6.58M [00:01<00:00, 4.74MB/s]\n"
          ]
        }
      ]
    },
    {
      "cell_type": "code",
      "source": [
        "test_data=datasets.USPS(root='./usps_data_test',train=False,transform=transforms.ToTensor(),download=True)"
      ],
      "metadata": {
        "colab": {
          "base_uri": "https://localhost:8080/"
        },
        "id": "hmtYT5zgf05s",
        "outputId": "48c22c34-5164-4c23-8ac6-2425e13f7954"
      },
      "execution_count": 6,
      "outputs": [
        {
          "output_type": "stream",
          "name": "stdout",
          "text": [
            "Downloading https://www.csie.ntu.edu.tw/~cjlin/libsvmtools/datasets/multiclass/usps.t.bz2 to ./usps_data_test/usps.t.bz2\n"
          ]
        },
        {
          "output_type": "stream",
          "name": "stderr",
          "text": [
            "100%|██████████| 1.83M/1.83M [00:00<00:00, 1.90MB/s]\n"
          ]
        }
      ]
    },
    {
      "cell_type": "code",
      "source": [
        "train_data"
      ],
      "metadata": {
        "colab": {
          "base_uri": "https://localhost:8080/"
        },
        "id": "pshAjUwxf2CO",
        "outputId": "6fbd217b-33d3-4c04-d702-0bbf2ed02366"
      },
      "execution_count": 7,
      "outputs": [
        {
          "output_type": "execute_result",
          "data": {
            "text/plain": [
              "Dataset USPS\n",
              "    Number of datapoints: 7291\n",
              "    Root location: ./usps_data_train\n",
              "    StandardTransform\n",
              "Transform: ToTensor()"
            ]
          },
          "metadata": {},
          "execution_count": 7
        }
      ]
    },
    {
      "cell_type": "code",
      "source": [
        "test_data"
      ],
      "metadata": {
        "colab": {
          "base_uri": "https://localhost:8080/"
        },
        "id": "__4_dwLef1_Z",
        "outputId": "9850d3f4-e71d-4499-8231-95909e290f79"
      },
      "execution_count": 8,
      "outputs": [
        {
          "output_type": "execute_result",
          "data": {
            "text/plain": [
              "Dataset USPS\n",
              "    Number of datapoints: 2007\n",
              "    Root location: ./usps_data_test\n",
              "    StandardTransform\n",
              "Transform: ToTensor()"
            ]
          },
          "metadata": {},
          "execution_count": 8
        }
      ]
    },
    {
      "cell_type": "code",
      "source": [
        "train_loader=DataLoader(dataset=train_data,batch_size=10,shuffle=True)\n",
        "test_loader=DataLoader(dataset=test_data,batch_size=10,shuffle=False)"
      ],
      "metadata": {
        "id": "O3_BKnuZf18B"
      },
      "execution_count": 9,
      "outputs": []
    },
    {
      "cell_type": "markdown",
      "source": [
        "## Data Exploration"
      ],
      "metadata": {
        "id": "IWKWAClSlxwF"
      }
    },
    {
      "cell_type": "code",
      "source": [
        "sample=train_data[5000]\n",
        "sample"
      ],
      "metadata": {
        "colab": {
          "base_uri": "https://localhost:8080/"
        },
        "id": "p6pbKPyOf12x",
        "outputId": "1e72504c-8023-4f5e-d881-a8a2503430d1"
      },
      "execution_count": 10,
      "outputs": [
        {
          "output_type": "execute_result",
          "data": {
            "text/plain": [
              "(tensor([[[0.0000, 0.0000, 0.0000, 0.0000, 0.0000, 0.0157, 0.1529, 0.4078,\n",
              "           0.3490, 0.0980, 0.0039, 0.0000, 0.0000, 0.0000, 0.0000, 0.0000],\n",
              "          [0.0000, 0.0000, 0.0000, 0.0000, 0.0000, 0.0431, 0.2784, 0.6549,\n",
              "           0.5569, 0.1608, 0.0078, 0.0000, 0.0000, 0.0000, 0.0000, 0.0000],\n",
              "          [0.0000, 0.0000, 0.0000, 0.0000, 0.0000, 0.0627, 0.3451, 0.7373,\n",
              "           0.6314, 0.1922, 0.0118, 0.0000, 0.0000, 0.0000, 0.0000, 0.0000],\n",
              "          [0.0000, 0.0000, 0.0000, 0.0000, 0.0000, 0.0510, 0.3137, 0.7529,\n",
              "           0.7059, 0.2510, 0.0314, 0.0000, 0.0000, 0.0000, 0.0000, 0.0000],\n",
              "          [0.0000, 0.0000, 0.0000, 0.0000, 0.0000, 0.0471, 0.3098, 0.7725,\n",
              "           0.7804, 0.3333, 0.0588, 0.0000, 0.0000, 0.0000, 0.0000, 0.0000],\n",
              "          [0.0000, 0.0000, 0.0000, 0.0000, 0.0000, 0.0314, 0.2706, 0.7490,\n",
              "           0.8078, 0.4000, 0.0824, 0.0039, 0.0000, 0.0000, 0.0000, 0.0000],\n",
              "          [0.0000, 0.0000, 0.0000, 0.0000, 0.0000, 0.0196, 0.2235, 0.7020,\n",
              "           0.8314, 0.4902, 0.1216, 0.0039, 0.0000, 0.0000, 0.0000, 0.0000],\n",
              "          [0.0000, 0.0000, 0.0000, 0.0000, 0.0000, 0.0118, 0.1804, 0.6275,\n",
              "           0.8471, 0.6000, 0.1686, 0.0118, 0.0000, 0.0000, 0.0000, 0.0000],\n",
              "          [0.0000, 0.0000, 0.0000, 0.0000, 0.0000, 0.0078, 0.1529, 0.5647,\n",
              "           0.8627, 0.7020, 0.2235, 0.0196, 0.0000, 0.0000, 0.0000, 0.0000],\n",
              "          [0.0000, 0.0000, 0.0000, 0.0000, 0.0000, 0.0118, 0.1686, 0.5961,\n",
              "           0.8902, 0.7490, 0.2588, 0.0275, 0.0000, 0.0000, 0.0000, 0.0000],\n",
              "          [0.0000, 0.0000, 0.0000, 0.0000, 0.0000, 0.0196, 0.2196, 0.6941,\n",
              "           0.9255, 0.7529, 0.2588, 0.0275, 0.0000, 0.0000, 0.0000, 0.0000],\n",
              "          [0.0000, 0.0000, 0.0000, 0.0000, 0.0000, 0.0353, 0.2667, 0.7412,\n",
              "           0.9333, 0.7294, 0.2353, 0.0196, 0.0000, 0.0000, 0.0000, 0.0000],\n",
              "          [0.0000, 0.0000, 0.0000, 0.0000, 0.0039, 0.0941, 0.4157, 0.8157,\n",
              "           0.9216, 0.6706, 0.2000, 0.0157, 0.0000, 0.0000, 0.0000, 0.0000],\n",
              "          [0.0000, 0.0000, 0.0000, 0.0000, 0.0157, 0.1922, 0.6275, 0.9098,\n",
              "           0.8863, 0.5529, 0.1490, 0.0078, 0.0000, 0.0000, 0.0000, 0.0000],\n",
              "          [0.0000, 0.0000, 0.0000, 0.0000, 0.0235, 0.2235, 0.6627, 0.8902,\n",
              "           0.7725, 0.3882, 0.0863, 0.0039, 0.0000, 0.0000, 0.0000, 0.0000],\n",
              "          [0.0000, 0.0000, 0.0000, 0.0000, 0.0118, 0.1176, 0.4039, 0.6000,\n",
              "           0.4824, 0.1804, 0.0275, 0.0000, 0.0000, 0.0000, 0.0000, 0.0000]]]),\n",
              " 1)"
            ]
          },
          "metadata": {},
          "execution_count": 10
        }
      ]
    },
    {
      "cell_type": "code",
      "source": [
        "sample_image,sample_tag=sample[0],sample[1]"
      ],
      "metadata": {
        "id": "ZLPotPkaf1zy"
      },
      "execution_count": 11,
      "outputs": []
    },
    {
      "cell_type": "code",
      "source": [
        "sample_image.shape"
      ],
      "metadata": {
        "colab": {
          "base_uri": "https://localhost:8080/"
        },
        "id": "XCgCr0FDmDOL",
        "outputId": "4b81928a-7863-4dfd-98e1-39da2b53b2a6"
      },
      "execution_count": 12,
      "outputs": [
        {
          "output_type": "execute_result",
          "data": {
            "text/plain": [
              "torch.Size([1, 16, 16])"
            ]
          },
          "metadata": {},
          "execution_count": 12
        }
      ]
    },
    {
      "cell_type": "code",
      "source": [
        "plt.imshow(sample_image.reshape(16,16))\n",
        "plt.title(f'Tag for the image is {sample_tag}')"
      ],
      "metadata": {
        "colab": {
          "base_uri": "https://localhost:8080/",
          "height": 469
        },
        "id": "5oO1D6srmGHT",
        "outputId": "88d515bf-0551-4391-f658-c79cf63989d0"
      },
      "execution_count": 13,
      "outputs": [
        {
          "output_type": "execute_result",
          "data": {
            "text/plain": [
              "Text(0.5, 1.0, 'Tag for the image is 1')"
            ]
          },
          "metadata": {},
          "execution_count": 13
        },
        {
          "output_type": "display_data",
          "data": {
            "text/plain": [
              "<Figure size 640x480 with 1 Axes>"
            ],
            "image/png": "[encoded data removed]"
          },
          "metadata": {}
        }
      ]
    },
    {
      "cell_type": "markdown",
      "source": [
        "## Neural Network Model"
      ],
      "metadata": {
        "id": "pomvVYQgmeSI"
      }
    },
    {
      "cell_type": "code",
      "source": [
        "class NumberDetector(nn.Module):\n",
        "  def __init__(self):\n",
        "    super().__init__()\n",
        "    ## Convolutional Layers - The first in_channel is so that 1 image in 1 channel is passed, The remaining 10,20,30 are arbitrarily chosen\n",
        "    self.conv1=nn.Conv2d(in_channels=1,out_channels=10,kernel_size=3,stride=1)\n",
        "    self.conv2=nn.Conv2d(in_channels=10,out_channels=20,kernel_size=3,stride=1)\n",
        "    self.conv3=nn.Conv2d(in_channels=20,out_channels=30,kernel_size=3,stride=1)\n",
        "\n",
        "    ## Fully Connected Layers\n",
        "    self.fc1=nn.Linear(30*10*10,out_features=100) # Since the output of Convolution will be a 10*10 image across 30 channels in-features will be 30*10*10.  The out features is also arbitrarily chosen.\n",
        "    self.fc2=nn.Linear(100,50) # The output of previous linear layer is 100, so input here will be 100. And output we've arbitrarily chosen as 50\n",
        "    self.fc3=nn.Linear(50,10) # we want the final output to be 10, because there are 10 digits possible.\n",
        "\n",
        "  def forward(self,X):\n",
        "    # First convolution and relu activation\n",
        "    X=F.relu(self.conv1(X))\n",
        "    # Second Convolution and relu activation\n",
        "    X=F.relu(self.conv2(X))\n",
        "    # Third Convolution and relu activation\n",
        "    X=F.relu(self.conv3(X))\n",
        "\n",
        "    ## Flattening\n",
        "    X=X.view(-1,30*10*10)\n",
        "\n",
        "    # ANN Layers/ Neural Networks\n",
        "    X=F.relu(self.fc1(X))\n",
        "    X=F.relu(self.fc2(X))\n",
        "    X=self.fc3(X)\n",
        "\n",
        "    return F.log_softmax(X,dim=1)\n",
        "\n"
      ],
      "metadata": {
        "id": "22ezPDS0mM80"
      },
      "execution_count": 14,
      "outputs": []
    },
    {
      "cell_type": "code",
      "source": [
        "Detector=NumberDetector()"
      ],
      "metadata": {
        "id": "g6NGccJaruIZ"
      },
      "execution_count": 15,
      "outputs": []
    },
    {
      "cell_type": "code",
      "source": [
        "Detector"
      ],
      "metadata": {
        "colab": {
          "base_uri": "https://localhost:8080/"
        },
        "id": "BilWfQOJruAO",
        "outputId": "800c8f38-eb7b-45db-f09f-8c1f4ef22cb0"
      },
      "execution_count": 16,
      "outputs": [
        {
          "output_type": "execute_result",
          "data": {
            "text/plain": [
              "NumberDetector(\n",
              "  (conv1): Conv2d(1, 10, kernel_size=(3, 3), stride=(1, 1))\n",
              "  (conv2): Conv2d(10, 20, kernel_size=(3, 3), stride=(1, 1))\n",
              "  (conv3): Conv2d(20, 30, kernel_size=(3, 3), stride=(1, 1))\n",
              "  (fc1): Linear(in_features=3000, out_features=100, bias=True)\n",
              "  (fc2): Linear(in_features=100, out_features=50, bias=True)\n",
              "  (fc3): Linear(in_features=50, out_features=10, bias=True)\n",
              ")"
            ]
          },
          "metadata": {},
          "execution_count": 16
        }
      ]
    },
    {
      "cell_type": "markdown",
      "source": [
        "## Loss Function Optimizer"
      ],
      "metadata": {
        "id": "-HEsnFrMy1qU"
      }
    },
    {
      "cell_type": "code",
      "source": [
        "criterion=nn.CrossEntropyLoss()\n",
        "optimizer=torch.optim.Adam(Detector.parameters(),lr=0.01)"
      ],
      "metadata": {
        "id": "OYQhndmrrt9q"
      },
      "execution_count": 17,
      "outputs": []
    },
    {
      "cell_type": "markdown",
      "source": [
        "## Training the model"
      ],
      "metadata": {
        "id": "4X2uu8yQzd-F"
      }
    },
    {
      "cell_type": "code",
      "source": [
        "import time\n",
        "start_time=time.time()\n",
        "epochs=10\n",
        "train_losses=[]\n",
        "test_losses=[]\n",
        "train_correct=[]\n",
        "test_correct=[]\n",
        "\n",
        "\n",
        "for i in range(epochs):\n",
        "  ## Train Data\n",
        "  for b,(X_Train,y_train) in enumerate(train_loader):\n",
        "    b+=1\n",
        "    y_pred=Detector(X_Train)\n",
        "    loss=criterion(y_pred,y_train)\n",
        "    ## Optimization of weights\n",
        "    optimizer.zero_grad()\n",
        "    loss.backward()\n",
        "    optimizer.step()\n",
        "\n",
        "    # Printing the loss % after certain number of data has been used to train\n",
        "    if b%100==0:\n",
        "      print(f'Epoch: {i}  Batch: {b}  Loss:{loss.item()}')\n",
        "\n",
        "current_time=time.time()\n",
        "print(f'Total time taken to finish the training = {(current_time-start_time)/60 } mins')"
      ],
      "metadata": {
        "colab": {
          "base_uri": "https://localhost:8080/"
        },
        "id": "yo2XxAvUrt6B",
        "outputId": "34b18abc-b705-441f-9c07-89c574050bea"
      },
      "execution_count": 18,
      "outputs": [
        {
          "output_type": "stream",
          "name": "stdout",
          "text": [
            "Epoch: 0  Batch: 100  Loss:0.8799358606338501\n",
            "Epoch: 0  Batch: 200  Loss:0.7782261371612549\n",
            "Epoch: 0  Batch: 300  Loss:0.388182669878006\n",
            "Epoch: 0  Batch: 400  Loss:0.6639823317527771\n",
            "Epoch: 0  Batch: 500  Loss:0.08344537764787674\n",
            "Epoch: 0  Batch: 600  Loss:0.3565571904182434\n",
            "Epoch: 0  Batch: 700  Loss:0.24853554368019104\n",
            "Epoch: 1  Batch: 100  Loss:0.12311698496341705\n",
            "Epoch: 1  Batch: 200  Loss:0.14429548382759094\n",
            "Epoch: 1  Batch: 300  Loss:0.18995478749275208\n",
            "Epoch: 1  Batch: 400  Loss:0.13952654600143433\n",
            "Epoch: 1  Batch: 500  Loss:0.0030507526826113462\n",
            "Epoch: 1  Batch: 600  Loss:0.030352333560585976\n",
            "Epoch: 1  Batch: 700  Loss:0.034265317022800446\n",
            "Epoch: 2  Batch: 100  Loss:0.15923582017421722\n",
            "Epoch: 2  Batch: 200  Loss:0.8413362503051758\n",
            "Epoch: 2  Batch: 300  Loss:0.4295940399169922\n",
            "Epoch: 2  Batch: 400  Loss:0.11128345876932144\n",
            "Epoch: 2  Batch: 500  Loss:0.009036306291818619\n",
            "Epoch: 2  Batch: 600  Loss:0.9517120122909546\n",
            "Epoch: 2  Batch: 700  Loss:0.08518072962760925\n",
            "Epoch: 3  Batch: 100  Loss:0.687427282333374\n",
            "Epoch: 3  Batch: 200  Loss:0.8085196614265442\n",
            "Epoch: 3  Batch: 300  Loss:0.5325136184692383\n",
            "Epoch: 3  Batch: 400  Loss:0.05236048623919487\n",
            "Epoch: 3  Batch: 500  Loss:0.17524254322052002\n",
            "Epoch: 3  Batch: 600  Loss:0.07054786384105682\n",
            "Epoch: 3  Batch: 700  Loss:0.04457983747124672\n",
            "Epoch: 4  Batch: 100  Loss:0.5306429862976074\n",
            "Epoch: 4  Batch: 200  Loss:0.36278051137924194\n",
            "Epoch: 4  Batch: 300  Loss:0.3011111915111542\n",
            "Epoch: 4  Batch: 400  Loss:0.5175284743309021\n",
            "Epoch: 4  Batch: 500  Loss:0.12664833664894104\n",
            "Epoch: 4  Batch: 600  Loss:0.016367126256227493\n",
            "Epoch: 4  Batch: 700  Loss:0.024315109476447105\n",
            "Epoch: 5  Batch: 100  Loss:0.012204639613628387\n",
            "Epoch: 5  Batch: 200  Loss:0.5558121800422668\n",
            "Epoch: 5  Batch: 300  Loss:0.00028248000307939947\n",
            "Epoch: 5  Batch: 400  Loss:0.0933627337217331\n",
            "Epoch: 5  Batch: 500  Loss:0.01400245912373066\n",
            "Epoch: 5  Batch: 600  Loss:0.009897680953145027\n",
            "Epoch: 5  Batch: 700  Loss:0.7734955549240112\n",
            "Epoch: 6  Batch: 100  Loss:0.03542224317789078\n",
            "Epoch: 6  Batch: 200  Loss:0.03484964370727539\n",
            "Epoch: 6  Batch: 300  Loss:0.07463500648736954\n",
            "Epoch: 6  Batch: 400  Loss:0.1111985296010971\n",
            "Epoch: 6  Batch: 500  Loss:0.146084725856781\n",
            "Epoch: 6  Batch: 600  Loss:0.24637873470783234\n",
            "Epoch: 6  Batch: 700  Loss:0.07305815815925598\n",
            "Epoch: 7  Batch: 100  Loss:0.008004533126950264\n",
            "Epoch: 7  Batch: 200  Loss:0.00273080519400537\n",
            "Epoch: 7  Batch: 300  Loss:0.0034745570737868547\n",
            "Epoch: 7  Batch: 400  Loss:0.22644749283790588\n",
            "Epoch: 7  Batch: 500  Loss:0.0028719748370349407\n",
            "Epoch: 7  Batch: 600  Loss:0.5560152530670166\n",
            "Epoch: 7  Batch: 700  Loss:0.006179502233862877\n",
            "Epoch: 8  Batch: 100  Loss:0.030263278633356094\n",
            "Epoch: 8  Batch: 200  Loss:0.2952253520488739\n",
            "Epoch: 8  Batch: 300  Loss:0.1002669557929039\n",
            "Epoch: 8  Batch: 400  Loss:0.15183193981647491\n",
            "Epoch: 8  Batch: 500  Loss:0.03206295147538185\n",
            "Epoch: 8  Batch: 600  Loss:0.4980159401893616\n",
            "Epoch: 8  Batch: 700  Loss:0.0658540278673172\n",
            "Epoch: 9  Batch: 100  Loss:0.0018086995696648955\n",
            "Epoch: 9  Batch: 200  Loss:0.011904450133442879\n",
            "Epoch: 9  Batch: 300  Loss:0.040238671004772186\n",
            "Epoch: 9  Batch: 400  Loss:0.03696274012327194\n",
            "Epoch: 9  Batch: 500  Loss:0.31111663579940796\n",
            "Epoch: 9  Batch: 600  Loss:0.009400710463523865\n",
            "Epoch: 9  Batch: 700  Loss:0.08224670588970184\n",
            "Total time taken to finish the training = 1.2883548299471537 mins\n"
          ]
        }
      ]
    },
    {
      "cell_type": "markdown",
      "source": [
        "## Accuracy with Testing Data"
      ],
      "metadata": {
        "id": "go87WIZa8SCC"
      }
    },
    {
      "cell_type": "code",
      "source": [
        "with torch.no_grad():\n",
        "  correct=0\n",
        "  for X_test,y_test in test_loader:\n",
        "    y_val=Detector(X_test)\n",
        "    predicted=torch.max(y_val,1)[1]\n",
        "    correct+=(predicted==y_test).sum()\n",
        "print(f\"{(correct.item()/len(test_data))*100} %\")"
      ],
      "metadata": {
        "colab": {
          "base_uri": "https://localhost:8080/"
        },
        "id": "58Kp7fh4rg2A",
        "outputId": "eb3e5bed-3091-4dbf-9483-bcfcc0a878b7"
      },
      "execution_count": 29,
      "outputs": [
        {
          "output_type": "stream",
          "name": "stdout",
          "text": [
            "92.47633283507723 %\n"
          ]
        }
      ]
    },
    {
      "cell_type": "markdown",
      "source": [
        "## Random Digit Test"
      ],
      "metadata": {
        "id": "yvZuH_oV8uBX"
      }
    },
    {
      "cell_type": "code",
      "source": [
        "test_data"
      ],
      "metadata": {
        "colab": {
          "base_uri": "https://localhost:8080/"
        },
        "id": "Qr9_vP5Wrgzm",
        "outputId": "aad23cd9-dbbe-454b-ebf7-57f7d12f0f52"
      },
      "execution_count": 30,
      "outputs": [
        {
          "output_type": "execute_result",
          "data": {
            "text/plain": [
              "Dataset USPS\n",
              "    Number of datapoints: 2007\n",
              "    Root location: ./usps_data_test\n",
              "    StandardTransform\n",
              "Transform: ToTensor()"
            ]
          },
          "metadata": {},
          "execution_count": 30
        }
      ]
    },
    {
      "cell_type": "code",
      "source": [
        "sample_image,sample_tag=test_data[1900][0],test_data[1900][1]"
      ],
      "metadata": {
        "id": "xaysbE9Qrgxa"
      },
      "execution_count": 43,
      "outputs": []
    },
    {
      "cell_type": "code",
      "source": [
        "sample_image"
      ],
      "metadata": {
        "colab": {
          "base_uri": "https://localhost:8080/"
        },
        "id": "B52jaNKUrgui",
        "outputId": "685979bc-8108-4d1d-90d7-2c776891b150"
      },
      "execution_count": 44,
      "outputs": [
        {
          "output_type": "execute_result",
          "data": {
            "text/plain": [
              "tensor([[[0.0000, 0.0000, 0.0000, 0.0157, 0.1098, 0.3216, 0.5373, 0.6275,\n",
              "          0.4510, 0.2235, 0.0667, 0.0078, 0.0000, 0.0000, 0.0000, 0.0000],\n",
              "         [0.0000, 0.0000, 0.0039, 0.0784, 0.3412, 0.6941, 0.8784, 0.8941,\n",
              "          0.7412, 0.5412, 0.2627, 0.0784, 0.0118, 0.0000, 0.0000, 0.0000],\n",
              "         [0.0000, 0.0000, 0.0353, 0.2275, 0.6196, 0.9059, 0.9765, 0.9020,\n",
              "          0.6941, 0.5843, 0.5059, 0.3020, 0.0941, 0.0118, 0.0000, 0.0000],\n",
              "         [0.0000, 0.0078, 0.1216, 0.4706, 0.8314, 0.9647, 0.9412, 0.7686,\n",
              "          0.4275, 0.3216, 0.5333, 0.5961, 0.3294, 0.1020, 0.0157, 0.0000],\n",
              "         [0.0000, 0.0314, 0.2471, 0.6941, 0.9412, 0.9373, 0.7647, 0.4902,\n",
              "          0.1804, 0.1137, 0.3686, 0.6784, 0.6510, 0.3490, 0.0902, 0.0078],\n",
              "         [0.0039, 0.0784, 0.3843, 0.8118, 0.9647, 0.8353, 0.4706, 0.1804,\n",
              "          0.0392, 0.0275, 0.1725, 0.5294, 0.8000, 0.6471, 0.2510, 0.0392],\n",
              "         [0.0078, 0.1333, 0.5216, 0.8784, 0.9333, 0.6824, 0.2549, 0.0431,\n",
              "          0.0039, 0.0039, 0.0667, 0.3490, 0.7765, 0.8078, 0.4314, 0.0980],\n",
              "         [0.0157, 0.2039, 0.6627, 0.9255, 0.8549, 0.4784, 0.1255, 0.0118,\n",
              "          0.0000, 0.0000, 0.0235, 0.2314, 0.6980, 0.8510, 0.5529, 0.1451],\n",
              "         [0.0471, 0.3020, 0.7608, 0.9451, 0.7765, 0.3255, 0.0549, 0.0000,\n",
              "          0.0000, 0.0000, 0.0235, 0.2314, 0.6941, 0.8549, 0.5608, 0.1490],\n",
              "         [0.1137, 0.4706, 0.8510, 0.9412, 0.7059, 0.2314, 0.0235, 0.0000,\n",
              "          0.0000, 0.0118, 0.0980, 0.3843, 0.7882, 0.8392, 0.4745, 0.1137],\n",
              "         [0.1451, 0.5490, 0.8902, 0.9255, 0.6392, 0.1843, 0.0118, 0.0039,\n",
              "          0.0118, 0.0784, 0.3098, 0.6588, 0.8980, 0.8039, 0.3725, 0.0745],\n",
              "         [0.1137, 0.4745, 0.8549, 0.9137, 0.6235, 0.1922, 0.0510, 0.0863,\n",
              "          0.1333, 0.2902, 0.6353, 0.8863, 0.9176, 0.6824, 0.2510, 0.0353],\n",
              "         [0.0549, 0.3176, 0.7608, 0.9216, 0.7412, 0.3961, 0.3020, 0.4078,\n",
              "          0.4980, 0.6471, 0.8667, 0.9333, 0.7804, 0.4275, 0.1176, 0.0118],\n",
              "         [0.0157, 0.1686, 0.5412, 0.8235, 0.8902, 0.8118, 0.7882, 0.8314,\n",
              "          0.8627, 0.8980, 0.9020, 0.7686, 0.4706, 0.1686, 0.0275, 0.0000],\n",
              "         [0.0000, 0.0471, 0.2235, 0.5020, 0.7647, 0.8941, 0.9373, 0.9176,\n",
              "          0.8824, 0.8275, 0.6667, 0.4157, 0.1647, 0.0314, 0.0000, 0.0000],\n",
              "         [0.0000, 0.0039, 0.0431, 0.1647, 0.3804, 0.5922, 0.6902, 0.6314,\n",
              "          0.5412, 0.4392, 0.2627, 0.1098, 0.0275, 0.0000, 0.0000, 0.0000]]])"
            ]
          },
          "metadata": {},
          "execution_count": 44
        }
      ]
    },
    {
      "cell_type": "code",
      "source": [
        "sample_tag"
      ],
      "metadata": {
        "colab": {
          "base_uri": "https://localhost:8080/"
        },
        "id": "GRwsycdtrgr7",
        "outputId": "3c62787f-b79b-4b8c-8d75-02e06a03418b"
      },
      "execution_count": 45,
      "outputs": [
        {
          "output_type": "execute_result",
          "data": {
            "text/plain": [
              "0"
            ]
          },
          "metadata": {},
          "execution_count": 45
        }
      ]
    },
    {
      "cell_type": "code",
      "source": [
        "plt.imshow(sample_image.reshape(16,16))"
      ],
      "metadata": {
        "colab": {
          "base_uri": "https://localhost:8080/",
          "height": 447
        },
        "id": "BxlOjIaa9WN_",
        "outputId": "f59b127b-7099-4be0-ab18-c2b42048f975"
      },
      "execution_count": 46,
      "outputs": [
        {
          "output_type": "execute_result",
          "data": {
            "text/plain": [
              "<matplotlib.image.AxesImage at 0x7f3fd80dd950>"
            ]
          },
          "metadata": {},
          "execution_count": 46
        },
        {
          "output_type": "display_data",
          "data": {
            "text/plain": [
              "<Figure size 640x480 with 1 Axes>"
            ],
            "image/png": "[encoded data removed]"
          },
          "metadata": {}
        }
      ]
    },
    {
      "cell_type": "code",
      "source": [
        "Detector.eval()\n",
        "with torch.no_grad():\n",
        "  new_predict=Detector(test_data[1900][0].view(1,1,16,16))"
      ],
      "metadata": {
        "id": "T81PwwRJ9qty"
      },
      "execution_count": 47,
      "outputs": []
    },
    {
      "cell_type": "code",
      "source": [
        "new_predict"
      ],
      "metadata": {
        "colab": {
          "base_uri": "https://localhost:8080/"
        },
        "id": "nEaq5T2F9-eu",
        "outputId": "422aae81-6229-4717-f0df-14cedf93d73e"
      },
      "execution_count": 48,
      "outputs": [
        {
          "output_type": "execute_result",
          "data": {
            "text/plain": [
              "tensor([[  0.0000, -75.6089, -21.9013, -19.3697, -17.2092, -20.3482, -22.6519,\n",
              "         -34.3894, -21.9009, -20.2091]])"
            ]
          },
          "metadata": {},
          "execution_count": 48
        }
      ]
    },
    {
      "cell_type": "code",
      "source": [
        "new_predict.argmax()"
      ],
      "metadata": {
        "colab": {
          "base_uri": "https://localhost:8080/"
        },
        "id": "OP-m7ViP9_s-",
        "outputId": "318b9768-8127-4bd3-ba70-6ce51b5ef250"
      },
      "execution_count": 49,
      "outputs": [
        {
          "output_type": "execute_result",
          "data": {
            "text/plain": [
              "tensor(0)"
            ]
          },
          "metadata": {},
          "execution_count": 49
        }
      ]
    },
    {
      "cell_type": "code",
      "source": [],
      "metadata": {
        "id": "IO_0HnwT-CMb"
      },
      "execution_count": null,
      "outputs": []
    }
  ]
}